{
 "cells": [
  {
   "cell_type": "code",
   "execution_count": 1,
   "id": "95503d67",
   "metadata": {
    "_cell_guid": "b1076dfc-b9ad-4769-8c92-a6c4dae69d19",
    "_uuid": "8f2839f25d086af736a60e9eeb907d3b93b6e0e5",
    "execution": {
     "iopub.execute_input": "2023-04-03T16:30:14.511709Z",
     "iopub.status.busy": "2023-04-03T16:30:14.511333Z",
     "iopub.status.idle": "2023-04-03T16:30:14.529008Z",
     "shell.execute_reply": "2023-04-03T16:30:14.527476Z"
    },
    "papermill": {
     "duration": 0.032352,
     "end_time": "2023-04-03T16:30:14.531462",
     "exception": false,
     "start_time": "2023-04-03T16:30:14.499110",
     "status": "completed"
    },
    "tags": []
   },
   "outputs": [
    {
     "name": "stdout",
     "output_type": "stream",
     "text": [
      "/kaggle/input/road-accident-united-kingdom-uk-dataset/UK_Accident.csv\n"
     ]
    }
   ],
   "source": [
    "# This Python 3 environment comes with many helpful analytics libraries installed\n",
    "# It is defined by the kaggle/python Docker image: https://github.com/kaggle/docker-python\n",
    "# For example, here's several helpful packages to load\n",
    "\n",
    "import numpy as np # linear algebra\n",
    "import pandas as pd # data processing, CSV file I/O (e.g. pd.read_csv)\n",
    "\n",
    "# Input data files are available in the read-only \"../input/\" directory\n",
    "# For example, running this (by clicking run or pressing Shift+Enter) will list all files under the input directory\n",
    "\n",
    "import os\n",
    "for dirname, _, filenames in os.walk('/kaggle/input'):\n",
    "    for filename in filenames:\n",
    "        print(os.path.join(dirname, filename))\n",
    "\n",
    "# You can write up to 20GB to the current directory (/kaggle/working/) that gets preserved as output when you create a version using \"Save & Run All\" \n",
    "# You can also write temporary files to /kaggle/temp/, but they won't be saved outside of the current session"
   ]
  },
  {
   "cell_type": "code",
   "execution_count": 2,
   "id": "c26f7765",
   "metadata": {
    "execution": {
     "iopub.execute_input": "2023-04-03T16:30:14.553378Z",
     "iopub.status.busy": "2023-04-03T16:30:14.552907Z",
     "iopub.status.idle": "2023-04-03T16:30:17.432657Z",
     "shell.execute_reply": "2023-04-03T16:30:17.431300Z"
    },
    "papermill": {
     "duration": 2.8936,
     "end_time": "2023-04-03T16:30:17.435138",
     "exception": false,
     "start_time": "2023-04-03T16:30:14.541538",
     "status": "completed"
    },
    "tags": []
   },
   "outputs": [],
   "source": [
    "import numpy as np\n",
    "import pandas as pd\n",
    "import matplotlib.pyplot as plt\n",
    "import plotly\n",
    "import plotly.express as ex\n",
    "import seaborn as sns\n",
    "from sklearn.preprocessing import StandardScaler\n",
    "from scipy.stats import norm"
   ]
  },
  {
   "cell_type": "code",
   "execution_count": 3,
   "id": "13486685",
   "metadata": {
    "execution": {
     "iopub.execute_input": "2023-04-03T16:30:17.456757Z",
     "iopub.status.busy": "2023-04-03T16:30:17.456372Z",
     "iopub.status.idle": "2023-04-03T16:30:28.078181Z",
     "shell.execute_reply": "2023-04-03T16:30:28.076995Z"
    },
    "papermill": {
     "duration": 10.635329,
     "end_time": "2023-04-03T16:30:28.080447",
     "exception": false,
     "start_time": "2023-04-03T16:30:17.445118",
     "status": "completed"
    },
    "tags": []
   },
   "outputs": [],
   "source": [
    "df=pd.read_csv('/kaggle/input/road-accident-united-kingdom-uk-dataset/UK_Accident.csv')"
   ]
  },
  {
   "cell_type": "code",
   "execution_count": 4,
   "id": "68b95f3c",
   "metadata": {
    "execution": {
     "iopub.execute_input": "2023-04-03T16:30:28.102332Z",
     "iopub.status.busy": "2023-04-03T16:30:28.102014Z",
     "iopub.status.idle": "2023-04-03T16:30:28.139721Z",
     "shell.execute_reply": "2023-04-03T16:30:28.138720Z"
    },
    "papermill": {
     "duration": 0.05286,
     "end_time": "2023-04-03T16:30:28.143127",
     "exception": false,
     "start_time": "2023-04-03T16:30:28.090267",
     "status": "completed"
    },
    "tags": []
   },
   "outputs": [
    {
     "data": {
      "text/html": [
       "<div>\n",
       "<style scoped>\n",
       "    .dataframe tbody tr th:only-of-type {\n",
       "        vertical-align: middle;\n",
       "    }\n",
       "\n",
       "    .dataframe tbody tr th {\n",
       "        vertical-align: top;\n",
       "    }\n",
       "\n",
       "    .dataframe thead th {\n",
       "        text-align: right;\n",
       "    }\n",
       "</style>\n",
       "<table border=\"1\" class=\"dataframe\">\n",
       "  <thead>\n",
       "    <tr style=\"text-align: right;\">\n",
       "      <th></th>\n",
       "      <th>Unnamed: 0</th>\n",
       "      <th>Accident_Index</th>\n",
       "      <th>Location_Easting_OSGR</th>\n",
       "      <th>Location_Northing_OSGR</th>\n",
       "      <th>Longitude</th>\n",
       "      <th>Latitude</th>\n",
       "      <th>Police_Force</th>\n",
       "      <th>Accident_Severity</th>\n",
       "      <th>Number_of_Vehicles</th>\n",
       "      <th>Number_of_Casualties</th>\n",
       "      <th>...</th>\n",
       "      <th>Pedestrian_Crossing-Physical_Facilities</th>\n",
       "      <th>Light_Conditions</th>\n",
       "      <th>Weather_Conditions</th>\n",
       "      <th>Road_Surface_Conditions</th>\n",
       "      <th>Special_Conditions_at_Site</th>\n",
       "      <th>Carriageway_Hazards</th>\n",
       "      <th>Urban_or_Rural_Area</th>\n",
       "      <th>Did_Police_Officer_Attend_Scene_of_Accident</th>\n",
       "      <th>LSOA_of_Accident_Location</th>\n",
       "      <th>Year</th>\n",
       "    </tr>\n",
       "  </thead>\n",
       "  <tbody>\n",
       "    <tr>\n",
       "      <th>0</th>\n",
       "      <td>0</td>\n",
       "      <td>200501BS00001</td>\n",
       "      <td>525680.0</td>\n",
       "      <td>178240.0</td>\n",
       "      <td>-0.191170</td>\n",
       "      <td>51.489096</td>\n",
       "      <td>1</td>\n",
       "      <td>2</td>\n",
       "      <td>1</td>\n",
       "      <td>1</td>\n",
       "      <td>...</td>\n",
       "      <td>Zebra crossing</td>\n",
       "      <td>Daylight: Street light present</td>\n",
       "      <td>Raining without high winds</td>\n",
       "      <td>Wet/Damp</td>\n",
       "      <td>None</td>\n",
       "      <td>None</td>\n",
       "      <td>1</td>\n",
       "      <td>Yes</td>\n",
       "      <td>E01002849</td>\n",
       "      <td>2005</td>\n",
       "    </tr>\n",
       "    <tr>\n",
       "      <th>1</th>\n",
       "      <td>1</td>\n",
       "      <td>200501BS00002</td>\n",
       "      <td>524170.0</td>\n",
       "      <td>181650.0</td>\n",
       "      <td>-0.211708</td>\n",
       "      <td>51.520075</td>\n",
       "      <td>1</td>\n",
       "      <td>3</td>\n",
       "      <td>1</td>\n",
       "      <td>1</td>\n",
       "      <td>...</td>\n",
       "      <td>Pedestrian phase at traffic signal junction</td>\n",
       "      <td>Darkness: Street lights present and lit</td>\n",
       "      <td>Fine without high winds</td>\n",
       "      <td>Dry</td>\n",
       "      <td>None</td>\n",
       "      <td>None</td>\n",
       "      <td>1</td>\n",
       "      <td>Yes</td>\n",
       "      <td>E01002909</td>\n",
       "      <td>2005</td>\n",
       "    </tr>\n",
       "    <tr>\n",
       "      <th>2</th>\n",
       "      <td>2</td>\n",
       "      <td>200501BS00003</td>\n",
       "      <td>524520.0</td>\n",
       "      <td>182240.0</td>\n",
       "      <td>-0.206458</td>\n",
       "      <td>51.525301</td>\n",
       "      <td>1</td>\n",
       "      <td>3</td>\n",
       "      <td>2</td>\n",
       "      <td>1</td>\n",
       "      <td>...</td>\n",
       "      <td>No physical crossing within 50 meters</td>\n",
       "      <td>Darkness: Street lights present and lit</td>\n",
       "      <td>Fine without high winds</td>\n",
       "      <td>Dry</td>\n",
       "      <td>None</td>\n",
       "      <td>None</td>\n",
       "      <td>1</td>\n",
       "      <td>Yes</td>\n",
       "      <td>E01002857</td>\n",
       "      <td>2005</td>\n",
       "    </tr>\n",
       "    <tr>\n",
       "      <th>3</th>\n",
       "      <td>3</td>\n",
       "      <td>200501BS00004</td>\n",
       "      <td>526900.0</td>\n",
       "      <td>177530.0</td>\n",
       "      <td>-0.173862</td>\n",
       "      <td>51.482442</td>\n",
       "      <td>1</td>\n",
       "      <td>3</td>\n",
       "      <td>1</td>\n",
       "      <td>1</td>\n",
       "      <td>...</td>\n",
       "      <td>No physical crossing within 50 meters</td>\n",
       "      <td>Daylight: Street light present</td>\n",
       "      <td>Fine without high winds</td>\n",
       "      <td>Dry</td>\n",
       "      <td>None</td>\n",
       "      <td>None</td>\n",
       "      <td>1</td>\n",
       "      <td>Yes</td>\n",
       "      <td>E01002840</td>\n",
       "      <td>2005</td>\n",
       "    </tr>\n",
       "    <tr>\n",
       "      <th>4</th>\n",
       "      <td>4</td>\n",
       "      <td>200501BS00005</td>\n",
       "      <td>528060.0</td>\n",
       "      <td>179040.0</td>\n",
       "      <td>-0.156618</td>\n",
       "      <td>51.495752</td>\n",
       "      <td>1</td>\n",
       "      <td>3</td>\n",
       "      <td>1</td>\n",
       "      <td>1</td>\n",
       "      <td>...</td>\n",
       "      <td>No physical crossing within 50 meters</td>\n",
       "      <td>Darkness: Street lighting unknown</td>\n",
       "      <td>Fine without high winds</td>\n",
       "      <td>Wet/Damp</td>\n",
       "      <td>None</td>\n",
       "      <td>None</td>\n",
       "      <td>1</td>\n",
       "      <td>Yes</td>\n",
       "      <td>E01002863</td>\n",
       "      <td>2005</td>\n",
       "    </tr>\n",
       "  </tbody>\n",
       "</table>\n",
       "<p>5 rows × 33 columns</p>\n",
       "</div>"
      ],
      "text/plain": [
       "   Unnamed: 0 Accident_Index  Location_Easting_OSGR  Location_Northing_OSGR  \\\n",
       "0           0  200501BS00001               525680.0                178240.0   \n",
       "1           1  200501BS00002               524170.0                181650.0   \n",
       "2           2  200501BS00003               524520.0                182240.0   \n",
       "3           3  200501BS00004               526900.0                177530.0   \n",
       "4           4  200501BS00005               528060.0                179040.0   \n",
       "\n",
       "   Longitude   Latitude  Police_Force  Accident_Severity  Number_of_Vehicles  \\\n",
       "0  -0.191170  51.489096             1                  2                   1   \n",
       "1  -0.211708  51.520075             1                  3                   1   \n",
       "2  -0.206458  51.525301             1                  3                   2   \n",
       "3  -0.173862  51.482442             1                  3                   1   \n",
       "4  -0.156618  51.495752             1                  3                   1   \n",
       "\n",
       "   Number_of_Casualties  ...      Pedestrian_Crossing-Physical_Facilities  \\\n",
       "0                     1  ...                               Zebra crossing   \n",
       "1                     1  ...  Pedestrian phase at traffic signal junction   \n",
       "2                     1  ...        No physical crossing within 50 meters   \n",
       "3                     1  ...        No physical crossing within 50 meters   \n",
       "4                     1  ...        No physical crossing within 50 meters   \n",
       "\n",
       "                          Light_Conditions          Weather_Conditions  \\\n",
       "0           Daylight: Street light present  Raining without high winds   \n",
       "1  Darkness: Street lights present and lit     Fine without high winds   \n",
       "2  Darkness: Street lights present and lit     Fine without high winds   \n",
       "3           Daylight: Street light present     Fine without high winds   \n",
       "4        Darkness: Street lighting unknown     Fine without high winds   \n",
       "\n",
       "   Road_Surface_Conditions Special_Conditions_at_Site  Carriageway_Hazards  \\\n",
       "0                 Wet/Damp                       None                 None   \n",
       "1                      Dry                       None                 None   \n",
       "2                      Dry                       None                 None   \n",
       "3                      Dry                       None                 None   \n",
       "4                 Wet/Damp                       None                 None   \n",
       "\n",
       "   Urban_or_Rural_Area Did_Police_Officer_Attend_Scene_of_Accident  \\\n",
       "0                    1                                         Yes   \n",
       "1                    1                                         Yes   \n",
       "2                    1                                         Yes   \n",
       "3                    1                                         Yes   \n",
       "4                    1                                         Yes   \n",
       "\n",
       "   LSOA_of_Accident_Location  Year  \n",
       "0                  E01002849  2005  \n",
       "1                  E01002909  2005  \n",
       "2                  E01002857  2005  \n",
       "3                  E01002840  2005  \n",
       "4                  E01002863  2005  \n",
       "\n",
       "[5 rows x 33 columns]"
      ]
     },
     "execution_count": 4,
     "metadata": {},
     "output_type": "execute_result"
    }
   ],
   "source": [
    "df.head()"
   ]
  },
  {
   "cell_type": "code",
   "execution_count": 5,
   "id": "b2375473",
   "metadata": {
    "execution": {
     "iopub.execute_input": "2023-04-03T16:30:28.165785Z",
     "iopub.status.busy": "2023-04-03T16:30:28.165432Z",
     "iopub.status.idle": "2023-04-03T16:30:28.170846Z",
     "shell.execute_reply": "2023-04-03T16:30:28.170231Z"
    },
    "papermill": {
     "duration": 0.01872,
     "end_time": "2023-04-03T16:30:28.172510",
     "exception": false,
     "start_time": "2023-04-03T16:30:28.153790",
     "status": "completed"
    },
    "tags": []
   },
   "outputs": [
    {
     "data": {
      "text/plain": [
       "(1504150, 33)"
      ]
     },
     "execution_count": 5,
     "metadata": {},
     "output_type": "execute_result"
    }
   ],
   "source": [
    "df.shape"
   ]
  },
  {
   "cell_type": "code",
   "execution_count": 6,
   "id": "e9ebeb5d",
   "metadata": {
    "execution": {
     "iopub.execute_input": "2023-04-03T16:30:28.194778Z",
     "iopub.status.busy": "2023-04-03T16:30:28.194229Z",
     "iopub.status.idle": "2023-04-03T16:30:29.023367Z",
     "shell.execute_reply": "2023-04-03T16:30:29.022371Z"
    },
    "papermill": {
     "duration": 0.843228,
     "end_time": "2023-04-03T16:30:29.026087",
     "exception": false,
     "start_time": "2023-04-03T16:30:28.182859",
     "status": "completed"
    },
    "tags": []
   },
   "outputs": [
    {
     "name": "stdout",
     "output_type": "stream",
     "text": [
      "<class 'pandas.core.frame.DataFrame'>\n",
      "RangeIndex: 1504150 entries, 0 to 1504149\n",
      "Data columns (total 33 columns):\n",
      " #   Column                                       Non-Null Count    Dtype  \n",
      "---  ------                                       --------------    -----  \n",
      " 0   Unnamed: 0                                   1504150 non-null  int64  \n",
      " 1   Accident_Index                               1504150 non-null  object \n",
      " 2   Location_Easting_OSGR                        1504049 non-null  float64\n",
      " 3   Location_Northing_OSGR                       1504150 non-null  float64\n",
      " 4   Longitude                                    1504049 non-null  float64\n",
      " 5   Latitude                                     1504150 non-null  float64\n",
      " 6   Police_Force                                 1504150 non-null  int64  \n",
      " 7   Accident_Severity                            1504150 non-null  int64  \n",
      " 8   Number_of_Vehicles                           1504150 non-null  int64  \n",
      " 9   Number_of_Casualties                         1504150 non-null  int64  \n",
      " 10  Date                                         1504150 non-null  object \n",
      " 11  Day_of_Week                                  1504150 non-null  int64  \n",
      " 12  Time                                         1504033 non-null  object \n",
      " 13  Local_Authority_(District)                   1504150 non-null  int64  \n",
      " 14  Local_Authority_(Highway)                    1504150 non-null  object \n",
      " 15  1st_Road_Class                               1504150 non-null  int64  \n",
      " 16  1st_Road_Number                              1504150 non-null  int64  \n",
      " 17  Road_Type                                    1504150 non-null  object \n",
      " 18  Speed_limit                                  1504150 non-null  int64  \n",
      " 19  Junction_Control                             1504150 non-null  object \n",
      " 20  2nd_Road_Class                               1504150 non-null  int64  \n",
      " 21  2nd_Road_Number                              1504150 non-null  int64  \n",
      " 22  Pedestrian_Crossing-Human_Control            1504133 non-null  object \n",
      " 23  Pedestrian_Crossing-Physical_Facilities      1504116 non-null  object \n",
      " 24  Light_Conditions                             1504150 non-null  object \n",
      " 25  Weather_Conditions                           1504150 non-null  object \n",
      " 26  Road_Surface_Conditions                      1504150 non-null  object \n",
      " 27  Special_Conditions_at_Site                   1504150 non-null  object \n",
      " 28  Carriageway_Hazards                          1504150 non-null  object \n",
      " 29  Urban_or_Rural_Area                          1504150 non-null  int64  \n",
      " 30  Did_Police_Officer_Attend_Scene_of_Accident  1504150 non-null  object \n",
      " 31  LSOA_of_Accident_Location                    1395912 non-null  object \n",
      " 32  Year                                         1504150 non-null  int64  \n",
      "dtypes: float64(4), int64(14), object(15)\n",
      "memory usage: 378.7+ MB\n"
     ]
    }
   ],
   "source": [
    "df.info()"
   ]
  },
  {
   "cell_type": "code",
   "execution_count": 7,
   "id": "88b9d80e",
   "metadata": {
    "execution": {
     "iopub.execute_input": "2023-04-03T16:30:29.048745Z",
     "iopub.status.busy": "2023-04-03T16:30:29.048377Z",
     "iopub.status.idle": "2023-04-03T16:30:29.062156Z",
     "shell.execute_reply": "2023-04-03T16:30:29.061016Z"
    },
    "papermill": {
     "duration": 0.02805,
     "end_time": "2023-04-03T16:30:29.064703",
     "exception": false,
     "start_time": "2023-04-03T16:30:29.036653",
     "status": "completed"
    },
    "tags": []
   },
   "outputs": [
    {
     "data": {
      "text/plain": [
       "array([2005, 2006, 2007, 2009, 2010, 2011, 2012, 2013, 2014])"
      ]
     },
     "execution_count": 7,
     "metadata": {},
     "output_type": "execute_result"
    }
   ],
   "source": [
    "df.Year.unique()"
   ]
  },
  {
   "cell_type": "markdown",
   "id": "3fc89229",
   "metadata": {
    "papermill": {
     "duration": 0.010346,
     "end_time": "2023-04-03T16:30:29.086286",
     "exception": false,
     "start_time": "2023-04-03T16:30:29.075940",
     "status": "completed"
    },
    "tags": []
   },
   "source": [
    "**Number of Casualities in each day of the week in descending order**"
   ]
  },
  {
   "cell_type": "code",
   "execution_count": 8,
   "id": "912b4ad6",
   "metadata": {
    "execution": {
     "iopub.execute_input": "2023-04-03T16:30:29.109697Z",
     "iopub.status.busy": "2023-04-03T16:30:29.109103Z",
     "iopub.status.idle": "2023-04-03T16:30:29.466443Z",
     "shell.execute_reply": "2023-04-03T16:30:29.465462Z"
    },
    "papermill": {
     "duration": 0.372007,
     "end_time": "2023-04-03T16:30:29.469013",
     "exception": false,
     "start_time": "2023-04-03T16:30:29.097006",
     "status": "completed"
    },
    "tags": []
   },
   "outputs": [],
   "source": [
    "df['Road_Surface_Conditions'].fillna(value = 'Normal', inplace = True)\n",
    "df['Special_Conditions_at_Site'].fillna(value = 'None', inplace = True)\n",
    "df['Carriageway_Hazards'].fillna(value = 'None', inplace = True)\n",
    "df['Did_Police_Officer_Attend_Scene_of_Accident'].fillna(value = 'No', inplace = True)\n",
    "df['Weather_Conditions'].fillna(value = 'Unknown', inplace = True)\n",
    "df['Junction_Control'].fillna(value = 'None', inplace = True)\n",
    "#df['Location_Northing_OSGR'].fillna(value = 0, inplace = True)\n",
    "df['Latitude'].fillna(value = 0, inplace = True)"
   ]
  },
  {
   "cell_type": "code",
   "execution_count": 9,
   "id": "60e0acfe",
   "metadata": {
    "execution": {
     "iopub.execute_input": "2023-04-03T16:30:29.491764Z",
     "iopub.status.busy": "2023-04-03T16:30:29.491361Z",
     "iopub.status.idle": "2023-04-03T16:30:29.544351Z",
     "shell.execute_reply": "2023-04-03T16:30:29.543336Z"
    },
    "papermill": {
     "duration": 0.06661,
     "end_time": "2023-04-03T16:30:29.546285",
     "exception": false,
     "start_time": "2023-04-03T16:30:29.479675",
     "status": "completed"
    },
    "tags": []
   },
   "outputs": [
    {
     "data": {
      "text/html": [
       "<div>\n",
       "<style scoped>\n",
       "    .dataframe tbody tr th:only-of-type {\n",
       "        vertical-align: middle;\n",
       "    }\n",
       "\n",
       "    .dataframe tbody tr th {\n",
       "        vertical-align: top;\n",
       "    }\n",
       "\n",
       "    .dataframe thead th {\n",
       "        text-align: right;\n",
       "    }\n",
       "</style>\n",
       "<table border=\"1\" class=\"dataframe\">\n",
       "  <thead>\n",
       "    <tr style=\"text-align: right;\">\n",
       "      <th></th>\n",
       "      <th>Casualities_Count</th>\n",
       "    </tr>\n",
       "    <tr>\n",
       "      <th>day_of_Week</th>\n",
       "      <th></th>\n",
       "    </tr>\n",
       "  </thead>\n",
       "  <tbody>\n",
       "    <tr>\n",
       "      <th>6</th>\n",
       "      <td>331934</td>\n",
       "    </tr>\n",
       "    <tr>\n",
       "      <th>5</th>\n",
       "      <td>299044</td>\n",
       "    </tr>\n",
       "    <tr>\n",
       "      <th>4</th>\n",
       "      <td>297756</td>\n",
       "    </tr>\n",
       "    <tr>\n",
       "      <th>3</th>\n",
       "      <td>294476</td>\n",
       "    </tr>\n",
       "    <tr>\n",
       "      <th>7</th>\n",
       "      <td>285261</td>\n",
       "    </tr>\n",
       "    <tr>\n",
       "      <th>2</th>\n",
       "      <td>284043</td>\n",
       "    </tr>\n",
       "    <tr>\n",
       "      <th>1</th>\n",
       "      <td>239532</td>\n",
       "    </tr>\n",
       "  </tbody>\n",
       "</table>\n",
       "</div>"
      ],
      "text/plain": [
       "             Casualities_Count\n",
       "day_of_Week                   \n",
       "6                       331934\n",
       "5                       299044\n",
       "4                       297756\n",
       "3                       294476\n",
       "7                       285261\n",
       "2                       284043\n",
       "1                       239532"
      ]
     },
     "execution_count": 9,
     "metadata": {},
     "output_type": "execute_result"
    }
   ],
   "source": [
    "data={'Casualities_Count': df['Number_of_Casualties'],'day_of_Week': df['Day_of_Week'] }\n",
    "accidents_per_week=pd.DataFrame(data)\n",
    "accidents_per_week.groupby(by='day_of_Week').sum().sort_values(by='Casualities_Count',ascending=False)"
   ]
  },
  {
   "cell_type": "code",
   "execution_count": 10,
   "id": "fd182828",
   "metadata": {
    "execution": {
     "iopub.execute_input": "2023-04-03T16:30:29.570125Z",
     "iopub.status.busy": "2023-04-03T16:30:29.569764Z",
     "iopub.status.idle": "2023-04-03T16:30:29.624383Z",
     "shell.execute_reply": "2023-04-03T16:30:29.623206Z"
    },
    "papermill": {
     "duration": 0.069341,
     "end_time": "2023-04-03T16:30:29.627084",
     "exception": false,
     "start_time": "2023-04-03T16:30:29.557743",
     "status": "completed"
    },
    "tags": []
   },
   "outputs": [
    {
     "data": {
      "text/html": [
       "<div>\n",
       "<style scoped>\n",
       "    .dataframe tbody tr th:only-of-type {\n",
       "        vertical-align: middle;\n",
       "    }\n",
       "\n",
       "    .dataframe tbody tr th {\n",
       "        vertical-align: top;\n",
       "    }\n",
       "\n",
       "    .dataframe thead th {\n",
       "        text-align: right;\n",
       "    }\n",
       "</style>\n",
       "<table border=\"1\" class=\"dataframe\">\n",
       "  <thead>\n",
       "    <tr style=\"text-align: right;\">\n",
       "      <th></th>\n",
       "      <th>Casualities_Count</th>\n",
       "      <th>day_of_Week</th>\n",
       "    </tr>\n",
       "  </thead>\n",
       "  <tbody>\n",
       "    <tr>\n",
       "      <th>11885</th>\n",
       "      <td>1</td>\n",
       "      <td>6</td>\n",
       "    </tr>\n",
       "    <tr>\n",
       "      <th>1060927</th>\n",
       "      <td>1</td>\n",
       "      <td>7</td>\n",
       "    </tr>\n",
       "    <tr>\n",
       "      <th>1008840</th>\n",
       "      <td>1</td>\n",
       "      <td>3</td>\n",
       "    </tr>\n",
       "    <tr>\n",
       "      <th>1040475</th>\n",
       "      <td>2</td>\n",
       "      <td>3</td>\n",
       "    </tr>\n",
       "    <tr>\n",
       "      <th>402287</th>\n",
       "      <td>1</td>\n",
       "      <td>3</td>\n",
       "    </tr>\n",
       "    <tr>\n",
       "      <th>1448076</th>\n",
       "      <td>1</td>\n",
       "      <td>7</td>\n",
       "    </tr>\n",
       "    <tr>\n",
       "      <th>752492</th>\n",
       "      <td>1</td>\n",
       "      <td>5</td>\n",
       "    </tr>\n",
       "    <tr>\n",
       "      <th>1320082</th>\n",
       "      <td>1</td>\n",
       "      <td>5</td>\n",
       "    </tr>\n",
       "    <tr>\n",
       "      <th>616689</th>\n",
       "      <td>1</td>\n",
       "      <td>7</td>\n",
       "    </tr>\n",
       "    <tr>\n",
       "      <th>1082062</th>\n",
       "      <td>1</td>\n",
       "      <td>4</td>\n",
       "    </tr>\n",
       "    <tr>\n",
       "      <th>1230047</th>\n",
       "      <td>2</td>\n",
       "      <td>7</td>\n",
       "    </tr>\n",
       "    <tr>\n",
       "      <th>810065</th>\n",
       "      <td>1</td>\n",
       "      <td>2</td>\n",
       "    </tr>\n",
       "    <tr>\n",
       "      <th>826895</th>\n",
       "      <td>1</td>\n",
       "      <td>3</td>\n",
       "    </tr>\n",
       "    <tr>\n",
       "      <th>1022054</th>\n",
       "      <td>1</td>\n",
       "      <td>4</td>\n",
       "    </tr>\n",
       "    <tr>\n",
       "      <th>1192809</th>\n",
       "      <td>2</td>\n",
       "      <td>3</td>\n",
       "    </tr>\n",
       "    <tr>\n",
       "      <th>1103127</th>\n",
       "      <td>2</td>\n",
       "      <td>2</td>\n",
       "    </tr>\n",
       "    <tr>\n",
       "      <th>850963</th>\n",
       "      <td>1</td>\n",
       "      <td>1</td>\n",
       "    </tr>\n",
       "    <tr>\n",
       "      <th>757883</th>\n",
       "      <td>1</td>\n",
       "      <td>4</td>\n",
       "    </tr>\n",
       "    <tr>\n",
       "      <th>799782</th>\n",
       "      <td>4</td>\n",
       "      <td>7</td>\n",
       "    </tr>\n",
       "    <tr>\n",
       "      <th>1115073</th>\n",
       "      <td>1</td>\n",
       "      <td>1</td>\n",
       "    </tr>\n",
       "  </tbody>\n",
       "</table>\n",
       "</div>"
      ],
      "text/plain": [
       "         Casualities_Count  day_of_Week\n",
       "11885                    1            6\n",
       "1060927                  1            7\n",
       "1008840                  1            3\n",
       "1040475                  2            3\n",
       "402287                   1            3\n",
       "1448076                  1            7\n",
       "752492                   1            5\n",
       "1320082                  1            5\n",
       "616689                   1            7\n",
       "1082062                  1            4\n",
       "1230047                  2            7\n",
       "810065                   1            2\n",
       "826895                   1            3\n",
       "1022054                  1            4\n",
       "1192809                  2            3\n",
       "1103127                  2            2\n",
       "850963                   1            1\n",
       "757883                   1            4\n",
       "799782                   4            7\n",
       "1115073                  1            1"
      ]
     },
     "execution_count": 10,
     "metadata": {},
     "output_type": "execute_result"
    }
   ],
   "source": [
    "accidents_per_week.sample(20)"
   ]
  },
  {
   "cell_type": "code",
   "execution_count": 11,
   "id": "ed152d3d",
   "metadata": {
    "execution": {
     "iopub.execute_input": "2023-04-03T16:30:29.651335Z",
     "iopub.status.busy": "2023-04-03T16:30:29.650962Z",
     "iopub.status.idle": "2023-04-03T16:30:29.908940Z",
     "shell.execute_reply": "2023-04-03T16:30:29.908202Z"
    },
    "papermill": {
     "duration": 0.272489,
     "end_time": "2023-04-03T16:30:29.910865",
     "exception": false,
     "start_time": "2023-04-03T16:30:29.638376",
     "status": "completed"
    },
    "tags": []
   },
   "outputs": [
    {
     "data": {
      "text/plain": [
       "Text(0.5, 0, '1 - Sunday ,  2 - Monday  ,3 - Tuesday , 4 - Wednesday , 5 - Thursday , 6 - Friday , 7 - Saturday')"
      ]
     },
     "execution_count": 11,
     "metadata": {},
     "output_type": "execute_result"
    },
    {
     "data": {
      "image/png": "[encoded data removed]",
      "text/plain": [
       "<Figure size 1000x600 with 1 Axes>"
      ]
     },
     "metadata": {},
     "output_type": "display_data"
    }
   ],
   "source": [
    "plt.figure(figsize=(10,6))\n",
    "accidents_per_week.day_of_Week.hist(bins=7,rwidth=0.55,alpha=0.5, color= 'orange')\n",
    "plt.title('Accidents on the day of a week' , fontsize= 10)\n",
    "plt.grid(False)\n",
    "plt.ylabel('Accident count' , fontsize = 10)\n",
    "plt.xlabel('1 - Sunday ,  2 - Monday  ,3 - Tuesday , 4 - Wednesday , 5 - Thursday , 6 - Friday , 7 - Saturday' , fontsize = 13)"
   ]
  },
  {
   "cell_type": "markdown",
   "id": "53fcd49d",
   "metadata": {
    "papermill": {
     "duration": 0.011049,
     "end_time": "2023-04-03T16:30:29.933426",
     "exception": false,
     "start_time": "2023-04-03T16:30:29.922377",
     "status": "completed"
    },
    "tags": []
   },
   "source": [
    "**Speed limit on the roads where accidents took place**"
   ]
  },
  {
   "cell_type": "code",
   "execution_count": 12,
   "id": "57c96347",
   "metadata": {
    "execution": {
     "iopub.execute_input": "2023-04-03T16:30:29.957767Z",
     "iopub.status.busy": "2023-04-03T16:30:29.957038Z",
     "iopub.status.idle": "2023-04-03T16:30:29.964018Z",
     "shell.execute_reply": "2023-04-03T16:30:29.963002Z"
    },
    "papermill": {
     "duration": 0.02156,
     "end_time": "2023-04-03T16:30:29.966088",
     "exception": false,
     "start_time": "2023-04-03T16:30:29.944528",
     "status": "completed"
    },
    "tags": []
   },
   "outputs": [],
   "source": [
    "accidents_per_week['Speed_Limit']=df.Speed_limit"
   ]
  },
  {
   "cell_type": "code",
   "execution_count": 13,
   "id": "693deaa8",
   "metadata": {
    "execution": {
     "iopub.execute_input": "2023-04-03T16:30:29.991335Z",
     "iopub.status.busy": "2023-04-03T16:30:29.990913Z",
     "iopub.status.idle": "2023-04-03T16:30:30.072885Z",
     "shell.execute_reply": "2023-04-03T16:30:30.071466Z"
    },
    "papermill": {
     "duration": 0.097072,
     "end_time": "2023-04-03T16:30:30.074965",
     "exception": false,
     "start_time": "2023-04-03T16:30:29.977893",
     "status": "completed"
    },
    "tags": []
   },
   "outputs": [
    {
     "data": {
      "text/html": [
       "<div>\n",
       "<style scoped>\n",
       "    .dataframe tbody tr th:only-of-type {\n",
       "        vertical-align: middle;\n",
       "    }\n",
       "\n",
       "    .dataframe tbody tr th {\n",
       "        vertical-align: top;\n",
       "    }\n",
       "\n",
       "    .dataframe thead th {\n",
       "        text-align: right;\n",
       "    }\n",
       "</style>\n",
       "<table border=\"1\" class=\"dataframe\">\n",
       "  <thead>\n",
       "    <tr style=\"text-align: right;\">\n",
       "      <th></th>\n",
       "      <th>Casualities_Count</th>\n",
       "      <th>day_of_Week</th>\n",
       "      <th>Speed_Limit</th>\n",
       "    </tr>\n",
       "  </thead>\n",
       "  <tbody>\n",
       "    <tr>\n",
       "      <th>915568</th>\n",
       "      <td>1</td>\n",
       "      <td>4</td>\n",
       "      <td>60</td>\n",
       "    </tr>\n",
       "    <tr>\n",
       "      <th>275434</th>\n",
       "      <td>1</td>\n",
       "      <td>6</td>\n",
       "      <td>30</td>\n",
       "    </tr>\n",
       "    <tr>\n",
       "      <th>438151</th>\n",
       "      <td>1</td>\n",
       "      <td>4</td>\n",
       "      <td>30</td>\n",
       "    </tr>\n",
       "    <tr>\n",
       "      <th>1440531</th>\n",
       "      <td>1</td>\n",
       "      <td>6</td>\n",
       "      <td>30</td>\n",
       "    </tr>\n",
       "  </tbody>\n",
       "</table>\n",
       "</div>"
      ],
      "text/plain": [
       "         Casualities_Count  day_of_Week  Speed_Limit\n",
       "915568                   1            4           60\n",
       "275434                   1            6           30\n",
       "438151                   1            4           30\n",
       "1440531                  1            6           30"
      ]
     },
     "execution_count": 13,
     "metadata": {},
     "output_type": "execute_result"
    }
   ],
   "source": [
    "accidents_per_week.sample(4)"
   ]
  },
  {
   "cell_type": "code",
   "execution_count": 14,
   "id": "0fb94164",
   "metadata": {
    "execution": {
     "iopub.execute_input": "2023-04-03T16:30:30.100452Z",
     "iopub.status.busy": "2023-04-03T16:30:30.100091Z",
     "iopub.status.idle": "2023-04-03T16:30:30.127395Z",
     "shell.execute_reply": "2023-04-03T16:30:30.125974Z"
    },
    "papermill": {
     "duration": 0.04329,
     "end_time": "2023-04-03T16:30:30.130463",
     "exception": false,
     "start_time": "2023-04-03T16:30:30.087173",
     "status": "completed"
    },
    "tags": []
   },
   "outputs": [
    {
     "data": {
      "text/html": [
       "<div>\n",
       "<style scoped>\n",
       "    .dataframe tbody tr th:only-of-type {\n",
       "        vertical-align: middle;\n",
       "    }\n",
       "\n",
       "    .dataframe tbody tr th {\n",
       "        vertical-align: top;\n",
       "    }\n",
       "\n",
       "    .dataframe thead th {\n",
       "        text-align: right;\n",
       "    }\n",
       "</style>\n",
       "<table border=\"1\" class=\"dataframe\">\n",
       "  <thead>\n",
       "    <tr style=\"text-align: right;\">\n",
       "      <th></th>\n",
       "      <th>Light_Conditions</th>\n",
       "      <th>Weather_Conditions</th>\n",
       "      <th>Accident_Severity</th>\n",
       "    </tr>\n",
       "  </thead>\n",
       "  <tbody>\n",
       "    <tr>\n",
       "      <th>0</th>\n",
       "      <td>Daylight: Street light present</td>\n",
       "      <td>Raining without high winds</td>\n",
       "      <td>2</td>\n",
       "    </tr>\n",
       "    <tr>\n",
       "      <th>1</th>\n",
       "      <td>Darkness: Street lights present and lit</td>\n",
       "      <td>Fine without high winds</td>\n",
       "      <td>3</td>\n",
       "    </tr>\n",
       "    <tr>\n",
       "      <th>2</th>\n",
       "      <td>Darkness: Street lights present and lit</td>\n",
       "      <td>Fine without high winds</td>\n",
       "      <td>3</td>\n",
       "    </tr>\n",
       "    <tr>\n",
       "      <th>3</th>\n",
       "      <td>Daylight: Street light present</td>\n",
       "      <td>Fine without high winds</td>\n",
       "      <td>3</td>\n",
       "    </tr>\n",
       "    <tr>\n",
       "      <th>4</th>\n",
       "      <td>Darkness: Street lighting unknown</td>\n",
       "      <td>Fine without high winds</td>\n",
       "      <td>3</td>\n",
       "    </tr>\n",
       "    <tr>\n",
       "      <th>5</th>\n",
       "      <td>Daylight: Street light present</td>\n",
       "      <td>Raining without high winds</td>\n",
       "      <td>3</td>\n",
       "    </tr>\n",
       "    <tr>\n",
       "      <th>6</th>\n",
       "      <td>Darkness: Street lights present and lit</td>\n",
       "      <td>Fine without high winds</td>\n",
       "      <td>3</td>\n",
       "    </tr>\n",
       "    <tr>\n",
       "      <th>7</th>\n",
       "      <td>Daylight: Street light present</td>\n",
       "      <td>Fine without high winds</td>\n",
       "      <td>3</td>\n",
       "    </tr>\n",
       "    <tr>\n",
       "      <th>8</th>\n",
       "      <td>Darkness: Street lights present and lit</td>\n",
       "      <td>Fine without high winds</td>\n",
       "      <td>3</td>\n",
       "    </tr>\n",
       "    <tr>\n",
       "      <th>9</th>\n",
       "      <td>Daylight: Street light present</td>\n",
       "      <td>Fine without high winds</td>\n",
       "      <td>3</td>\n",
       "    </tr>\n",
       "  </tbody>\n",
       "</table>\n",
       "</div>"
      ],
      "text/plain": [
       "                          Light_Conditions          Weather_Conditions  \\\n",
       "0           Daylight: Street light present  Raining without high winds   \n",
       "1  Darkness: Street lights present and lit     Fine without high winds   \n",
       "2  Darkness: Street lights present and lit     Fine without high winds   \n",
       "3           Daylight: Street light present     Fine without high winds   \n",
       "4        Darkness: Street lighting unknown     Fine without high winds   \n",
       "5           Daylight: Street light present  Raining without high winds   \n",
       "6  Darkness: Street lights present and lit     Fine without high winds   \n",
       "7           Daylight: Street light present     Fine without high winds   \n",
       "8  Darkness: Street lights present and lit     Fine without high winds   \n",
       "9           Daylight: Street light present     Fine without high winds   \n",
       "\n",
       "   Accident_Severity  \n",
       "0                  2  \n",
       "1                  3  \n",
       "2                  3  \n",
       "3                  3  \n",
       "4                  3  \n",
       "5                  3  \n",
       "6                  3  \n",
       "7                  3  \n",
       "8                  3  \n",
       "9                  3  "
      ]
     },
     "execution_count": 14,
     "metadata": {},
     "output_type": "execute_result"
    }
   ],
   "source": [
    "accident_severity_data={'Light_Conditions':df.Light_Conditions,\n",
    "                       'Weather_Conditions':df.Weather_Conditions,\n",
    "                       'Accident_Severity':df.Accident_Severity}\n",
    "accident_severity_df=pd.DataFrame(accident_severity_data)\n",
    "accident_severity_df.head(10)"
   ]
  },
  {
   "cell_type": "code",
   "execution_count": 15,
   "id": "fccba837",
   "metadata": {
    "execution": {
     "iopub.execute_input": "2023-04-03T16:30:30.155960Z",
     "iopub.status.busy": "2023-04-03T16:30:30.155586Z",
     "iopub.status.idle": "2023-04-03T16:30:30.192587Z",
     "shell.execute_reply": "2023-04-03T16:30:30.191497Z"
    },
    "papermill": {
     "duration": 0.052166,
     "end_time": "2023-04-03T16:30:30.194786",
     "exception": false,
     "start_time": "2023-04-03T16:30:30.142620",
     "status": "completed"
    },
    "tags": []
   },
   "outputs": [
    {
     "data": {
      "text/html": [
       "<div>\n",
       "<style scoped>\n",
       "    .dataframe tbody tr th:only-of-type {\n",
       "        vertical-align: middle;\n",
       "    }\n",
       "\n",
       "    .dataframe tbody tr th {\n",
       "        vertical-align: top;\n",
       "    }\n",
       "\n",
       "    .dataframe thead th {\n",
       "        text-align: right;\n",
       "    }\n",
       "</style>\n",
       "<table border=\"1\" class=\"dataframe\">\n",
       "  <thead>\n",
       "    <tr style=\"text-align: right;\">\n",
       "      <th></th>\n",
       "      <th>Accident_Severity</th>\n",
       "    </tr>\n",
       "  </thead>\n",
       "  <tbody>\n",
       "    <tr>\n",
       "      <th>count</th>\n",
       "      <td>1.504150e+06</td>\n",
       "    </tr>\n",
       "    <tr>\n",
       "      <th>mean</th>\n",
       "      <td>2.838190e+00</td>\n",
       "    </tr>\n",
       "    <tr>\n",
       "      <th>std</th>\n",
       "      <td>4.018423e-01</td>\n",
       "    </tr>\n",
       "    <tr>\n",
       "      <th>min</th>\n",
       "      <td>1.000000e+00</td>\n",
       "    </tr>\n",
       "    <tr>\n",
       "      <th>25%</th>\n",
       "      <td>3.000000e+00</td>\n",
       "    </tr>\n",
       "    <tr>\n",
       "      <th>50%</th>\n",
       "      <td>3.000000e+00</td>\n",
       "    </tr>\n",
       "    <tr>\n",
       "      <th>75%</th>\n",
       "      <td>3.000000e+00</td>\n",
       "    </tr>\n",
       "    <tr>\n",
       "      <th>max</th>\n",
       "      <td>3.000000e+00</td>\n",
       "    </tr>\n",
       "  </tbody>\n",
       "</table>\n",
       "</div>"
      ],
      "text/plain": [
       "       Accident_Severity\n",
       "count       1.504150e+06\n",
       "mean        2.838190e+00\n",
       "std         4.018423e-01\n",
       "min         1.000000e+00\n",
       "25%         3.000000e+00\n",
       "50%         3.000000e+00\n",
       "75%         3.000000e+00\n",
       "max         3.000000e+00"
      ]
     },
     "execution_count": 15,
     "metadata": {},
     "output_type": "execute_result"
    }
   ],
   "source": [
    "accident_severity_df.describe()"
   ]
  },
  {
   "cell_type": "code",
   "execution_count": 16,
   "id": "73228e16",
   "metadata": {
    "execution": {
     "iopub.execute_input": "2023-04-03T16:30:30.220169Z",
     "iopub.status.busy": "2023-04-03T16:30:30.219794Z",
     "iopub.status.idle": "2023-04-03T16:30:30.338626Z",
     "shell.execute_reply": "2023-04-03T16:30:30.337080Z"
    },
    "papermill": {
     "duration": 0.13447,
     "end_time": "2023-04-03T16:30:30.341429",
     "exception": false,
     "start_time": "2023-04-03T16:30:30.206959",
     "status": "completed"
    },
    "tags": []
   },
   "outputs": [
    {
     "name": "stdout",
     "output_type": "stream",
     "text": [
      "<class 'pandas.core.frame.DataFrame'>\n",
      "RangeIndex: 1504150 entries, 0 to 1504149\n",
      "Data columns (total 3 columns):\n",
      " #   Column              Non-Null Count    Dtype \n",
      "---  ------              --------------    ----- \n",
      " 0   Light_Conditions    1504150 non-null  object\n",
      " 1   Weather_Conditions  1504150 non-null  object\n",
      " 2   Accident_Severity   1504150 non-null  int64 \n",
      "dtypes: int64(1), object(2)\n",
      "memory usage: 34.4+ MB\n"
     ]
    }
   ],
   "source": [
    "accident_severity_df.info()"
   ]
  },
  {
   "cell_type": "markdown",
   "id": "4221f6ac",
   "metadata": {
    "papermill": {
     "duration": 0.011736,
     "end_time": "2023-04-03T16:30:30.365384",
     "exception": false,
     "start_time": "2023-04-03T16:30:30.353648",
     "status": "completed"
    },
    "tags": []
   },
   "source": [
    "**Convert object datatype into category datatype**"
   ]
  },
  {
   "cell_type": "code",
   "execution_count": 17,
   "id": "df1577f6",
   "metadata": {
    "execution": {
     "iopub.execute_input": "2023-04-03T16:30:30.390720Z",
     "iopub.status.busy": "2023-04-03T16:30:30.390264Z",
     "iopub.status.idle": "2023-04-03T16:30:30.667251Z",
     "shell.execute_reply": "2023-04-03T16:30:30.666070Z"
    },
    "papermill": {
     "duration": 0.293006,
     "end_time": "2023-04-03T16:30:30.670148",
     "exception": false,
     "start_time": "2023-04-03T16:30:30.377142",
     "status": "completed"
    },
    "tags": []
   },
   "outputs": [],
   "source": [
    "for object_feature in accident_severity_df.dtypes[accident_severity_df.dtypes=='object'].index:\n",
    "    accident_severity_df[object_feature]=accident_severity_df[object_feature].astype('category')"
   ]
  },
  {
   "cell_type": "code",
   "execution_count": 18,
   "id": "c01e02a6",
   "metadata": {
    "execution": {
     "iopub.execute_input": "2023-04-03T16:30:30.696841Z",
     "iopub.status.busy": "2023-04-03T16:30:30.696452Z",
     "iopub.status.idle": "2023-04-03T16:30:30.712143Z",
     "shell.execute_reply": "2023-04-03T16:30:30.711207Z"
    },
    "papermill": {
     "duration": 0.032213,
     "end_time": "2023-04-03T16:30:30.714532",
     "exception": false,
     "start_time": "2023-04-03T16:30:30.682319",
     "status": "completed"
    },
    "tags": []
   },
   "outputs": [
    {
     "name": "stdout",
     "output_type": "stream",
     "text": [
      "<class 'pandas.core.frame.DataFrame'>\n",
      "RangeIndex: 1504150 entries, 0 to 1504149\n",
      "Data columns (total 3 columns):\n",
      " #   Column              Non-Null Count    Dtype   \n",
      "---  ------              --------------    -----   \n",
      " 0   Light_Conditions    1504150 non-null  category\n",
      " 1   Weather_Conditions  1504150 non-null  category\n",
      " 2   Accident_Severity   1504150 non-null  int64   \n",
      "dtypes: category(2), int64(1)\n",
      "memory usage: 14.3 MB\n"
     ]
    }
   ],
   "source": [
    "accident_severity_df.info()"
   ]
  },
  {
   "cell_type": "markdown",
   "id": "2a96fc93",
   "metadata": {
    "papermill": {
     "duration": 0.011565,
     "end_time": "2023-04-03T16:30:30.738731",
     "exception": false,
     "start_time": "2023-04-03T16:30:30.727166",
     "status": "completed"
    },
    "tags": []
   },
   "source": [
    "**One hot encoding the categorical columns**"
   ]
  },
  {
   "cell_type": "markdown",
   "id": "3fe271fc",
   "metadata": {
    "papermill": {
     "duration": 0.012064,
     "end_time": "2023-04-03T16:30:30.763342",
     "exception": false,
     "start_time": "2023-04-03T16:30:30.751278",
     "status": "completed"
    },
    "tags": []
   },
   "source": []
  },
  {
   "cell_type": "markdown",
   "id": "cf44a635",
   "metadata": {
    "papermill": {
     "duration": 0.011866,
     "end_time": "2023-04-03T16:30:30.787355",
     "exception": false,
     "start_time": "2023-04-03T16:30:30.775489",
     "status": "completed"
    },
    "tags": []
   },
   "source": [
    "**Step missing**"
   ]
  },
  {
   "cell_type": "code",
   "execution_count": 19,
   "id": "29332b3d",
   "metadata": {
    "execution": {
     "iopub.execute_input": "2023-04-03T16:30:30.813329Z",
     "iopub.status.busy": "2023-04-03T16:30:30.812944Z",
     "iopub.status.idle": "2023-04-03T16:30:30.825783Z",
     "shell.execute_reply": "2023-04-03T16:30:30.824710Z"
    },
    "papermill": {
     "duration": 0.028283,
     "end_time": "2023-04-03T16:30:30.827813",
     "exception": false,
     "start_time": "2023-04-03T16:30:30.799530",
     "status": "completed"
    },
    "tags": []
   },
   "outputs": [
    {
     "data": {
      "text/html": [
       "<div>\n",
       "<style scoped>\n",
       "    .dataframe tbody tr th:only-of-type {\n",
       "        vertical-align: middle;\n",
       "    }\n",
       "\n",
       "    .dataframe tbody tr th {\n",
       "        vertical-align: top;\n",
       "    }\n",
       "\n",
       "    .dataframe thead th {\n",
       "        text-align: right;\n",
       "    }\n",
       "</style>\n",
       "<table border=\"1\" class=\"dataframe\">\n",
       "  <thead>\n",
       "    <tr style=\"text-align: right;\">\n",
       "      <th></th>\n",
       "      <th>Light_Conditions</th>\n",
       "      <th>Weather_Conditions</th>\n",
       "      <th>Accident_Severity</th>\n",
       "    </tr>\n",
       "  </thead>\n",
       "  <tbody>\n",
       "    <tr>\n",
       "      <th>0</th>\n",
       "      <td>Daylight: Street light present</td>\n",
       "      <td>Raining without high winds</td>\n",
       "      <td>2</td>\n",
       "    </tr>\n",
       "    <tr>\n",
       "      <th>1</th>\n",
       "      <td>Darkness: Street lights present and lit</td>\n",
       "      <td>Fine without high winds</td>\n",
       "      <td>3</td>\n",
       "    </tr>\n",
       "    <tr>\n",
       "      <th>2</th>\n",
       "      <td>Darkness: Street lights present and lit</td>\n",
       "      <td>Fine without high winds</td>\n",
       "      <td>3</td>\n",
       "    </tr>\n",
       "    <tr>\n",
       "      <th>3</th>\n",
       "      <td>Daylight: Street light present</td>\n",
       "      <td>Fine without high winds</td>\n",
       "      <td>3</td>\n",
       "    </tr>\n",
       "    <tr>\n",
       "      <th>4</th>\n",
       "      <td>Darkness: Street lighting unknown</td>\n",
       "      <td>Fine without high winds</td>\n",
       "      <td>3</td>\n",
       "    </tr>\n",
       "  </tbody>\n",
       "</table>\n",
       "</div>"
      ],
      "text/plain": [
       "                          Light_Conditions          Weather_Conditions  \\\n",
       "0           Daylight: Street light present  Raining without high winds   \n",
       "1  Darkness: Street lights present and lit     Fine without high winds   \n",
       "2  Darkness: Street lights present and lit     Fine without high winds   \n",
       "3           Daylight: Street light present     Fine without high winds   \n",
       "4        Darkness: Street lighting unknown     Fine without high winds   \n",
       "\n",
       "   Accident_Severity  \n",
       "0                  2  \n",
       "1                  3  \n",
       "2                  3  \n",
       "3                  3  \n",
       "4                  3  "
      ]
     },
     "execution_count": 19,
     "metadata": {},
     "output_type": "execute_result"
    }
   ],
   "source": [
    "accident_severity_df.head(5)"
   ]
  },
  {
   "cell_type": "code",
   "execution_count": 20,
   "id": "e8fb1e66",
   "metadata": {
    "execution": {
     "iopub.execute_input": "2023-04-03T16:30:30.854681Z",
     "iopub.status.busy": "2023-04-03T16:30:30.854296Z",
     "iopub.status.idle": "2023-04-03T16:30:30.869888Z",
     "shell.execute_reply": "2023-04-03T16:30:30.869083Z"
    },
    "papermill": {
     "duration": 0.031409,
     "end_time": "2023-04-03T16:30:30.872350",
     "exception": false,
     "start_time": "2023-04-03T16:30:30.840941",
     "status": "completed"
    },
    "tags": []
   },
   "outputs": [],
   "source": [
    "accident_severity=accident_severity_df.corr().loc['Accident_Severity':]\n",
    "accident_severity=pd.DataFrame(accident_severity)"
   ]
  },
  {
   "cell_type": "code",
   "execution_count": 21,
   "id": "a306ca0c",
   "metadata": {
    "execution": {
     "iopub.execute_input": "2023-04-03T16:30:30.901046Z",
     "iopub.status.busy": "2023-04-03T16:30:30.899760Z",
     "iopub.status.idle": "2023-04-03T16:30:30.908951Z",
     "shell.execute_reply": "2023-04-03T16:30:30.907839Z"
    },
    "papermill": {
     "duration": 0.025489,
     "end_time": "2023-04-03T16:30:30.911298",
     "exception": false,
     "start_time": "2023-04-03T16:30:30.885809",
     "status": "completed"
    },
    "tags": []
   },
   "outputs": [
    {
     "data": {
      "text/html": [
       "<div>\n",
       "<style scoped>\n",
       "    .dataframe tbody tr th:only-of-type {\n",
       "        vertical-align: middle;\n",
       "    }\n",
       "\n",
       "    .dataframe tbody tr th {\n",
       "        vertical-align: top;\n",
       "    }\n",
       "\n",
       "    .dataframe thead th {\n",
       "        text-align: right;\n",
       "    }\n",
       "</style>\n",
       "<table border=\"1\" class=\"dataframe\">\n",
       "  <thead>\n",
       "    <tr style=\"text-align: right;\">\n",
       "      <th></th>\n",
       "      <th>Accident_Severity</th>\n",
       "    </tr>\n",
       "  </thead>\n",
       "  <tbody>\n",
       "    <tr>\n",
       "      <th>Accident_Severity</th>\n",
       "      <td>1.0</td>\n",
       "    </tr>\n",
       "  </tbody>\n",
       "</table>\n",
       "</div>"
      ],
      "text/plain": [
       "                   Accident_Severity\n",
       "Accident_Severity                1.0"
      ]
     },
     "execution_count": 21,
     "metadata": {},
     "output_type": "execute_result"
    }
   ],
   "source": [
    "accident_severity"
   ]
  },
  {
   "cell_type": "code",
   "execution_count": 22,
   "id": "9b4838d1",
   "metadata": {
    "execution": {
     "iopub.execute_input": "2023-04-03T16:30:30.938637Z",
     "iopub.status.busy": "2023-04-03T16:30:30.938246Z",
     "iopub.status.idle": "2023-04-03T16:30:31.239988Z",
     "shell.execute_reply": "2023-04-03T16:30:31.239009Z"
    },
    "papermill": {
     "duration": 0.317742,
     "end_time": "2023-04-03T16:30:31.242481",
     "exception": false,
     "start_time": "2023-04-03T16:30:30.924739",
     "status": "completed"
    },
    "tags": []
   },
   "outputs": [
    {
     "data": {
      "text/plain": [
       "<AxesSubplot:>"
      ]
     },
     "execution_count": 22,
     "metadata": {},
     "output_type": "execute_result"
    },
    {
     "data": {
      "image/png": "[encoded data removed]",
      "text/plain": [
       "<Figure size 1500x2000 with 2 Axes>"
      ]
     },
     "metadata": {},
     "output_type": "display_data"
    }
   ],
   "source": [
    "plt.figure(figsize=(15,20))\n",
    "sns.heatmap(accident_severity,vmin=-1,cmap='plasma_r',annot=True)"
   ]
  },
  {
   "cell_type": "code",
   "execution_count": 23,
   "id": "f01acada",
   "metadata": {
    "execution": {
     "iopub.execute_input": "2023-04-03T16:30:31.270862Z",
     "iopub.status.busy": "2023-04-03T16:30:31.270068Z",
     "iopub.status.idle": "2023-04-03T16:30:31.437092Z",
     "shell.execute_reply": "2023-04-03T16:30:31.436039Z"
    },
    "papermill": {
     "duration": 0.183368,
     "end_time": "2023-04-03T16:30:31.439375",
     "exception": false,
     "start_time": "2023-04-03T16:30:31.256007",
     "status": "completed"
    },
    "tags": []
   },
   "outputs": [],
   "source": [
    "accident_severity_df=df.copy()"
   ]
  },
  {
   "cell_type": "code",
   "execution_count": 24,
   "id": "9aef67b8",
   "metadata": {
    "execution": {
     "iopub.execute_input": "2023-04-03T16:30:31.467056Z",
     "iopub.status.busy": "2023-04-03T16:30:31.466154Z",
     "iopub.status.idle": "2023-04-03T16:30:32.290264Z",
     "shell.execute_reply": "2023-04-03T16:30:32.288873Z"
    },
    "papermill": {
     "duration": 0.841304,
     "end_time": "2023-04-03T16:30:32.293543",
     "exception": false,
     "start_time": "2023-04-03T16:30:31.452239",
     "status": "completed"
    },
    "tags": []
   },
   "outputs": [
    {
     "name": "stdout",
     "output_type": "stream",
     "text": [
      "<class 'pandas.core.frame.DataFrame'>\n",
      "RangeIndex: 1504150 entries, 0 to 1504149\n",
      "Data columns (total 33 columns):\n",
      " #   Column                                       Non-Null Count    Dtype  \n",
      "---  ------                                       --------------    -----  \n",
      " 0   Unnamed: 0                                   1504150 non-null  int64  \n",
      " 1   Accident_Index                               1504150 non-null  object \n",
      " 2   Location_Easting_OSGR                        1504049 non-null  float64\n",
      " 3   Location_Northing_OSGR                       1504150 non-null  float64\n",
      " 4   Longitude                                    1504049 non-null  float64\n",
      " 5   Latitude                                     1504150 non-null  float64\n",
      " 6   Police_Force                                 1504150 non-null  int64  \n",
      " 7   Accident_Severity                            1504150 non-null  int64  \n",
      " 8   Number_of_Vehicles                           1504150 non-null  int64  \n",
      " 9   Number_of_Casualties                         1504150 non-null  int64  \n",
      " 10  Date                                         1504150 non-null  object \n",
      " 11  Day_of_Week                                  1504150 non-null  int64  \n",
      " 12  Time                                         1504033 non-null  object \n",
      " 13  Local_Authority_(District)                   1504150 non-null  int64  \n",
      " 14  Local_Authority_(Highway)                    1504150 non-null  object \n",
      " 15  1st_Road_Class                               1504150 non-null  int64  \n",
      " 16  1st_Road_Number                              1504150 non-null  int64  \n",
      " 17  Road_Type                                    1504150 non-null  object \n",
      " 18  Speed_limit                                  1504150 non-null  int64  \n",
      " 19  Junction_Control                             1504150 non-null  object \n",
      " 20  2nd_Road_Class                               1504150 non-null  int64  \n",
      " 21  2nd_Road_Number                              1504150 non-null  int64  \n",
      " 22  Pedestrian_Crossing-Human_Control            1504133 non-null  object \n",
      " 23  Pedestrian_Crossing-Physical_Facilities      1504116 non-null  object \n",
      " 24  Light_Conditions                             1504150 non-null  object \n",
      " 25  Weather_Conditions                           1504150 non-null  object \n",
      " 26  Road_Surface_Conditions                      1504150 non-null  object \n",
      " 27  Special_Conditions_at_Site                   1504150 non-null  object \n",
      " 28  Carriageway_Hazards                          1504150 non-null  object \n",
      " 29  Urban_or_Rural_Area                          1504150 non-null  int64  \n",
      " 30  Did_Police_Officer_Attend_Scene_of_Accident  1504150 non-null  object \n",
      " 31  LSOA_of_Accident_Location                    1395912 non-null  object \n",
      " 32  Year                                         1504150 non-null  int64  \n",
      "dtypes: float64(4), int64(14), object(15)\n",
      "memory usage: 378.7+ MB\n"
     ]
    }
   ],
   "source": [
    "accident_severity_df.info()"
   ]
  },
  {
   "cell_type": "code",
   "execution_count": 25,
   "id": "497532fa",
   "metadata": {
    "execution": {
     "iopub.execute_input": "2023-04-03T16:30:32.321334Z",
     "iopub.status.busy": "2023-04-03T16:30:32.320966Z",
     "iopub.status.idle": "2023-04-03T16:30:32.406075Z",
     "shell.execute_reply": "2023-04-03T16:30:32.404208Z"
    },
    "papermill": {
     "duration": 0.101614,
     "end_time": "2023-04-03T16:30:32.408361",
     "exception": false,
     "start_time": "2023-04-03T16:30:32.306747",
     "status": "completed"
    },
    "tags": []
   },
   "outputs": [
    {
     "data": {
      "text/plain": [
       "Daylight: Street light present               1102222\n",
       "Darkness: Street lights present and lit       296340\n",
       "Darkeness: No street lighting                  82559\n",
       "Darkness: Street lighting unknown              16120\n",
       "Darkness: Street lights present but unlit       6909\n",
       "Name: Light_Conditions, dtype: int64"
      ]
     },
     "execution_count": 25,
     "metadata": {},
     "output_type": "execute_result"
    }
   ],
   "source": [
    "\n",
    "accident_severity_df['Light_Conditions'].value_counts()\n",
    "\n",
    "\n"
   ]
  },
  {
   "cell_type": "code",
   "execution_count": 26,
   "id": "106c6c04",
   "metadata": {
    "execution": {
     "iopub.execute_input": "2023-04-03T16:30:32.436959Z",
     "iopub.status.busy": "2023-04-03T16:30:32.436591Z",
     "iopub.status.idle": "2023-04-03T16:30:32.523711Z",
     "shell.execute_reply": "2023-04-03T16:30:32.522521Z"
    },
    "papermill": {
     "duration": 0.104178,
     "end_time": "2023-04-03T16:30:32.525896",
     "exception": false,
     "start_time": "2023-04-03T16:30:32.421718",
     "status": "completed"
    },
    "tags": []
   },
   "outputs": [
    {
     "data": {
      "text/plain": [
       "Giveway or uncontrolled     733940\n",
       "None                        602835\n",
       "Automatic traffic signal    155717\n",
       "Stop Sign                     9179\n",
       "Authorised person             2479\n",
       "Name: Junction_Control, dtype: int64"
      ]
     },
     "execution_count": 26,
     "metadata": {},
     "output_type": "execute_result"
    }
   ],
   "source": [
    "accident_severity_df['Junction_Control'].value_counts()\n"
   ]
  },
  {
   "cell_type": "code",
   "execution_count": 27,
   "id": "b2778544",
   "metadata": {
    "execution": {
     "iopub.execute_input": "2023-04-03T16:30:32.554818Z",
     "iopub.status.busy": "2023-04-03T16:30:32.554421Z",
     "iopub.status.idle": "2023-04-03T16:30:32.637588Z",
     "shell.execute_reply": "2023-04-03T16:30:32.636204Z"
    },
    "papermill": {
     "duration": 0.100796,
     "end_time": "2023-04-03T16:30:32.640507",
     "exception": false,
     "start_time": "2023-04-03T16:30:32.539711",
     "status": "completed"
    },
    "tags": []
   },
   "outputs": [
    {
     "data": {
      "text/plain": [
       "None                                               1467568\n",
       "Roadworks                                            17223\n",
       "Ol or diesel                                          5243\n",
       "Mud                                                   4610\n",
       "Road surface defective                                3664\n",
       "Auto traffic singal out                               2788\n",
       "Permanent sign or marking defective or obscured       2269\n",
       "Auto traffic signal partly defective                   785\n",
       "Name: Special_Conditions_at_Site, dtype: int64"
      ]
     },
     "execution_count": 27,
     "metadata": {},
     "output_type": "execute_result"
    }
   ],
   "source": [
    "accident_severity_df['Special_Conditions_at_Site'].value_counts()"
   ]
  },
  {
   "cell_type": "code",
   "execution_count": 28,
   "id": "2bc1ab68",
   "metadata": {
    "execution": {
     "iopub.execute_input": "2023-04-03T16:30:32.670083Z",
     "iopub.status.busy": "2023-04-03T16:30:32.669709Z",
     "iopub.status.idle": "2023-04-03T16:30:32.752803Z",
     "shell.execute_reply": "2023-04-03T16:30:32.751746Z"
    },
    "papermill": {
     "duration": 0.10081,
     "end_time": "2023-04-03T16:30:32.754948",
     "exception": false,
     "start_time": "2023-04-03T16:30:32.654138",
     "status": "completed"
    },
    "tags": []
   },
   "outputs": [
    {
     "data": {
      "text/plain": [
       "None                                       1476900\n",
       "Other object in carriageway                  11762\n",
       "Any animal (except a ridden horse)            8014\n",
       "Pedestrian in carriageway (not injured)       3586\n",
       "Involvement with previous accident            2282\n",
       "Dislodged vehicle load in carriageway         1606\n",
       "Name: Carriageway_Hazards, dtype: int64"
      ]
     },
     "execution_count": 28,
     "metadata": {},
     "output_type": "execute_result"
    }
   ],
   "source": [
    "accident_severity_df['Carriageway_Hazards'].value_counts()"
   ]
  },
  {
   "cell_type": "code",
   "execution_count": 29,
   "id": "084a1786",
   "metadata": {
    "execution": {
     "iopub.execute_input": "2023-04-03T16:30:32.782823Z",
     "iopub.status.busy": "2023-04-03T16:30:32.782464Z",
     "iopub.status.idle": "2023-04-03T16:30:32.987113Z",
     "shell.execute_reply": "2023-04-03T16:30:32.986075Z"
    },
    "papermill": {
     "duration": 0.22142,
     "end_time": "2023-04-03T16:30:32.989707",
     "exception": false,
     "start_time": "2023-04-03T16:30:32.768287",
     "status": "completed"
    },
    "tags": []
   },
   "outputs": [
    {
     "data": {
      "text/plain": [
       "None within 50 metres                 1495269\n",
       "Control by other authorised person       5220\n",
       "Control by school crossing patrol        3644\n",
       "Name: Pedestrian_Crossing-Human_Control, dtype: int64"
      ]
     },
     "execution_count": 29,
     "metadata": {},
     "output_type": "execute_result"
    }
   ],
   "source": [
    "accident_severity_df['Pedestrian_Crossing-Human_Control'].value_counts()\n"
   ]
  },
  {
   "cell_type": "code",
   "execution_count": 30,
   "id": "b68f5806",
   "metadata": {
    "execution": {
     "iopub.execute_input": "2023-04-03T16:30:33.020003Z",
     "iopub.status.busy": "2023-04-03T16:30:33.019645Z",
     "iopub.status.idle": "2023-04-03T16:30:33.100326Z",
     "shell.execute_reply": "2023-04-03T16:30:33.099629Z"
    },
    "papermill": {
     "duration": 0.097709,
     "end_time": "2023-04-03T16:30:33.102652",
     "exception": false,
     "start_time": "2023-04-03T16:30:33.004943",
     "status": "completed"
    },
    "tags": []
   },
   "outputs": [
    {
     "data": {
      "text/plain": [
       "No physical crossing within 50 meters          1252571\n",
       "Pedestrian phase at traffic signal junction     100248\n",
       "non-junction pedestrian crossing                 79231\n",
       "Zebra crossing                                   40106\n",
       "Central refuge                                   27660\n",
       "Footbridge or subway                              4300\n",
       "Name: Pedestrian_Crossing-Physical_Facilities, dtype: int64"
      ]
     },
     "execution_count": 30,
     "metadata": {},
     "output_type": "execute_result"
    }
   ],
   "source": [
    "accident_severity_df['Pedestrian_Crossing-Physical_Facilities'].value_counts()"
   ]
  },
  {
   "cell_type": "markdown",
   "id": "3e9f5d78",
   "metadata": {
    "papermill": {
     "duration": 0.013308,
     "end_time": "2023-04-03T16:30:33.130047",
     "exception": false,
     "start_time": "2023-04-03T16:30:33.116739",
     "status": "completed"
    },
    "tags": []
   },
   "source": [
    "**Drop columns**"
   ]
  },
  {
   "cell_type": "code",
   "execution_count": 31,
   "id": "b05b156f",
   "metadata": {
    "execution": {
     "iopub.execute_input": "2023-04-03T16:30:33.159664Z",
     "iopub.status.busy": "2023-04-03T16:30:33.158781Z",
     "iopub.status.idle": "2023-04-03T16:30:33.163674Z",
     "shell.execute_reply": "2023-04-03T16:30:33.162639Z"
    },
    "papermill": {
     "duration": 0.021777,
     "end_time": "2023-04-03T16:30:33.165616",
     "exception": false,
     "start_time": "2023-04-03T16:30:33.143839",
     "status": "completed"
    },
    "tags": []
   },
   "outputs": [],
   "source": [
    "drop_cols=['Carriageway_Hazards','Pedestrian_Crossing-Human_Control','Pedestrian_Crossing-Physical_Facilities','Special_Conditions_at_Site','Junction_Control']"
   ]
  },
  {
   "cell_type": "code",
   "execution_count": 32,
   "id": "0c42ae61",
   "metadata": {
    "execution": {
     "iopub.execute_input": "2023-04-03T16:30:33.194366Z",
     "iopub.status.busy": "2023-04-03T16:30:33.194035Z",
     "iopub.status.idle": "2023-04-03T16:30:53.252687Z",
     "shell.execute_reply": "2023-04-03T16:30:53.251942Z"
    },
    "papermill": {
     "duration": 20.075447,
     "end_time": "2023-04-03T16:30:53.254531",
     "exception": false,
     "start_time": "2023-04-03T16:30:33.179084",
     "status": "completed"
    },
    "tags": []
   },
   "outputs": [
    {
     "data": {
      "text/plain": [
       "<AxesSubplot:xlabel='Road_Type', ylabel='Accident_Severity'>"
      ]
     },
     "execution_count": 32,
     "metadata": {},
     "output_type": "execute_result"
    },
    {
     "data": {
      "image/png": "[encoded data removed]",
      "text/plain": [
       "<Figure size 1200x800 with 1 Axes>"
      ]
     },
     "metadata": {},
     "output_type": "display_data"
    }
   ],
   "source": [
    "plt.figure(figsize=(12,8))\n",
    "sns.barplot(x='Road_Type',y='Accident_Severity',data=accident_severity_df,palette='pastel')"
   ]
  },
  {
   "cell_type": "code",
   "execution_count": 33,
   "id": "d8b0f983",
   "metadata": {
    "execution": {
     "iopub.execute_input": "2023-04-03T16:30:53.284250Z",
     "iopub.status.busy": "2023-04-03T16:30:53.283579Z",
     "iopub.status.idle": "2023-04-03T16:30:55.642026Z",
     "shell.execute_reply": "2023-04-03T16:30:55.641062Z"
    },
    "papermill": {
     "duration": 2.376117,
     "end_time": "2023-04-03T16:30:55.644526",
     "exception": false,
     "start_time": "2023-04-03T16:30:53.268409",
     "status": "completed"
    },
    "tags": []
   },
   "outputs": [],
   "source": [
    "for feature in accident_severity_df.dtypes[accident_severity_df.dtypes=='object'].index:accident_severity_df.drop(columns=feature,inplace=True)"
   ]
  },
  {
   "cell_type": "code",
   "execution_count": 34,
   "id": "d7f05a74",
   "metadata": {
    "execution": {
     "iopub.execute_input": "2023-04-03T16:30:55.675355Z",
     "iopub.status.busy": "2023-04-03T16:30:55.674424Z",
     "iopub.status.idle": "2023-04-03T16:30:55.713091Z",
     "shell.execute_reply": "2023-04-03T16:30:55.712083Z"
    },
    "papermill": {
     "duration": 0.05617,
     "end_time": "2023-04-03T16:30:55.715419",
     "exception": false,
     "start_time": "2023-04-03T16:30:55.659249",
     "status": "completed"
    },
    "tags": []
   },
   "outputs": [
    {
     "name": "stdout",
     "output_type": "stream",
     "text": [
      "<class 'pandas.core.frame.DataFrame'>\n",
      "RangeIndex: 1504150 entries, 0 to 1504149\n",
      "Data columns (total 18 columns):\n",
      " #   Column                      Non-Null Count    Dtype  \n",
      "---  ------                      --------------    -----  \n",
      " 0   Unnamed: 0                  1504150 non-null  int64  \n",
      " 1   Location_Easting_OSGR       1504049 non-null  float64\n",
      " 2   Location_Northing_OSGR      1504150 non-null  float64\n",
      " 3   Longitude                   1504049 non-null  float64\n",
      " 4   Latitude                    1504150 non-null  float64\n",
      " 5   Police_Force                1504150 non-null  int64  \n",
      " 6   Accident_Severity           1504150 non-null  int64  \n",
      " 7   Number_of_Vehicles          1504150 non-null  int64  \n",
      " 8   Number_of_Casualties        1504150 non-null  int64  \n",
      " 9   Day_of_Week                 1504150 non-null  int64  \n",
      " 10  Local_Authority_(District)  1504150 non-null  int64  \n",
      " 11  1st_Road_Class              1504150 non-null  int64  \n",
      " 12  1st_Road_Number             1504150 non-null  int64  \n",
      " 13  Speed_limit                 1504150 non-null  int64  \n",
      " 14  2nd_Road_Class              1504150 non-null  int64  \n",
      " 15  2nd_Road_Number             1504150 non-null  int64  \n",
      " 16  Urban_or_Rural_Area         1504150 non-null  int64  \n",
      " 17  Year                        1504150 non-null  int64  \n",
      "dtypes: float64(4), int64(14)\n",
      "memory usage: 206.6 MB\n"
     ]
    }
   ],
   "source": [
    "accident_severity_df.info()"
   ]
  },
  {
   "cell_type": "code",
   "execution_count": 35,
   "id": "db5dbd66",
   "metadata": {
    "execution": {
     "iopub.execute_input": "2023-04-03T16:30:55.746067Z",
     "iopub.status.busy": "2023-04-03T16:30:55.745739Z",
     "iopub.status.idle": "2023-04-03T16:30:55.786235Z",
     "shell.execute_reply": "2023-04-03T16:30:55.784370Z"
    },
    "papermill": {
     "duration": 0.058411,
     "end_time": "2023-04-03T16:30:55.788243",
     "exception": false,
     "start_time": "2023-04-03T16:30:55.729832",
     "status": "completed"
    },
    "tags": []
   },
   "outputs": [
    {
     "name": "stdout",
     "output_type": "stream",
     "text": [
      "<class 'pandas.core.frame.DataFrame'>\n",
      "RangeIndex: 1504150 entries, 0 to 1504149\n",
      "Data columns (total 18 columns):\n",
      " #   Column                      Non-Null Count    Dtype  \n",
      "---  ------                      --------------    -----  \n",
      " 0   Unnamed: 0                  1504150 non-null  int64  \n",
      " 1   Location_Easting_OSGR       1504049 non-null  float64\n",
      " 2   Location_Northing_OSGR      1504150 non-null  float64\n",
      " 3   Longitude                   1504049 non-null  float64\n",
      " 4   Latitude                    1504150 non-null  float64\n",
      " 5   Police_Force                1504150 non-null  int64  \n",
      " 6   Accident_Severity           1504150 non-null  int64  \n",
      " 7   Number_of_Vehicles          1504150 non-null  int64  \n",
      " 8   Number_of_Casualties        1504150 non-null  int64  \n",
      " 9   Day_of_Week                 1504150 non-null  int64  \n",
      " 10  Local_Authority_(District)  1504150 non-null  int64  \n",
      " 11  1st_Road_Class              1504150 non-null  int64  \n",
      " 12  1st_Road_Number             1504150 non-null  int64  \n",
      " 13  Speed_limit                 1504150 non-null  int64  \n",
      " 14  2nd_Road_Class              1504150 non-null  int64  \n",
      " 15  2nd_Road_Number             1504150 non-null  int64  \n",
      " 16  Urban_or_Rural_Area         1504150 non-null  int64  \n",
      " 17  Year                        1504150 non-null  int64  \n",
      "dtypes: float64(4), int64(14)\n",
      "memory usage: 206.6 MB\n"
     ]
    }
   ],
   "source": [
    "accident_severity_df.info()"
   ]
  },
  {
   "cell_type": "markdown",
   "id": "69345a04",
   "metadata": {
    "papermill": {
     "duration": 0.014991,
     "end_time": "2023-04-03T16:30:55.818136",
     "exception": false,
     "start_time": "2023-04-03T16:30:55.803145",
     "status": "completed"
    },
    "tags": []
   },
   "source": []
  },
  {
   "cell_type": "code",
   "execution_count": 36,
   "id": "dcb3b2c2",
   "metadata": {
    "execution": {
     "iopub.execute_input": "2023-04-03T16:30:55.850085Z",
     "iopub.status.busy": "2023-04-03T16:30:55.849308Z",
     "iopub.status.idle": "2023-04-03T16:30:56.806839Z",
     "shell.execute_reply": "2023-04-03T16:30:56.805270Z"
    },
    "papermill": {
     "duration": 0.976626,
     "end_time": "2023-04-03T16:30:56.809778",
     "exception": false,
     "start_time": "2023-04-03T16:30:55.833152",
     "status": "completed"
    },
    "tags": []
   },
   "outputs": [],
   "source": [
    "new_matrix=accident_severity_df.corr()"
   ]
  },
  {
   "cell_type": "code",
   "execution_count": 37,
   "id": "ff331670",
   "metadata": {
    "execution": {
     "iopub.execute_input": "2023-04-03T16:30:56.840747Z",
     "iopub.status.busy": "2023-04-03T16:30:56.840375Z",
     "iopub.status.idle": "2023-04-03T16:30:56.868011Z",
     "shell.execute_reply": "2023-04-03T16:30:56.866538Z"
    },
    "papermill": {
     "duration": 0.046697,
     "end_time": "2023-04-03T16:30:56.871065",
     "exception": false,
     "start_time": "2023-04-03T16:30:56.824368",
     "status": "completed"
    },
    "tags": []
   },
   "outputs": [
    {
     "data": {
      "text/html": [
       "<div>\n",
       "<style scoped>\n",
       "    .dataframe tbody tr th:only-of-type {\n",
       "        vertical-align: middle;\n",
       "    }\n",
       "\n",
       "    .dataframe tbody tr th {\n",
       "        vertical-align: top;\n",
       "    }\n",
       "\n",
       "    .dataframe thead th {\n",
       "        text-align: right;\n",
       "    }\n",
       "</style>\n",
       "<table border=\"1\" class=\"dataframe\">\n",
       "  <thead>\n",
       "    <tr style=\"text-align: right;\">\n",
       "      <th></th>\n",
       "      <th>Unnamed: 0</th>\n",
       "      <th>Location_Easting_OSGR</th>\n",
       "      <th>Location_Northing_OSGR</th>\n",
       "      <th>Longitude</th>\n",
       "      <th>Latitude</th>\n",
       "      <th>Police_Force</th>\n",
       "      <th>Accident_Severity</th>\n",
       "      <th>Number_of_Vehicles</th>\n",
       "      <th>Number_of_Casualties</th>\n",
       "      <th>Day_of_Week</th>\n",
       "      <th>Local_Authority_(District)</th>\n",
       "      <th>1st_Road_Class</th>\n",
       "      <th>1st_Road_Number</th>\n",
       "      <th>Speed_limit</th>\n",
       "      <th>2nd_Road_Class</th>\n",
       "      <th>2nd_Road_Number</th>\n",
       "      <th>Urban_or_Rural_Area</th>\n",
       "      <th>Year</th>\n",
       "    </tr>\n",
       "  </thead>\n",
       "  <tbody>\n",
       "    <tr>\n",
       "      <th>Unnamed: 0</th>\n",
       "      <td>1.000000</td>\n",
       "      <td>-0.099098</td>\n",
       "      <td>-0.018978</td>\n",
       "      <td>-0.101058</td>\n",
       "      <td>-0.018249</td>\n",
       "      <td>0.333496</td>\n",
       "      <td>-0.011277</td>\n",
       "      <td>0.003448</td>\n",
       "      <td>0.005047</td>\n",
       "      <td>-0.001842</td>\n",
       "      <td>0.340397</td>\n",
       "      <td>0.017955</td>\n",
       "      <td>0.006321</td>\n",
       "      <td>0.081329</td>\n",
       "      <td>-0.042901</td>\n",
       "      <td>-0.003913</td>\n",
       "      <td>0.099965</td>\n",
       "      <td>0.102025</td>\n",
       "    </tr>\n",
       "    <tr>\n",
       "      <th>Location_Easting_OSGR</th>\n",
       "      <td>-0.099098</td>\n",
       "      <td>1.000000</td>\n",
       "      <td>-0.420212</td>\n",
       "      <td>0.999359</td>\n",
       "      <td>-0.422123</td>\n",
       "      <td>-0.356474</td>\n",
       "      <td>0.013465</td>\n",
       "      <td>0.017152</td>\n",
       "      <td>-0.040780</td>\n",
       "      <td>-0.001883</td>\n",
       "      <td>-0.380452</td>\n",
       "      <td>-0.060289</td>\n",
       "      <td>-0.084678</td>\n",
       "      <td>-0.063709</td>\n",
       "      <td>0.044525</td>\n",
       "      <td>-0.000128</td>\n",
       "      <td>-0.095941</td>\n",
       "      <td>0.038404</td>\n",
       "    </tr>\n",
       "    <tr>\n",
       "      <th>Location_Northing_OSGR</th>\n",
       "      <td>-0.018978</td>\n",
       "      <td>-0.420212</td>\n",
       "      <td>1.000000</td>\n",
       "      <td>-0.430722</td>\n",
       "      <td>0.962771</td>\n",
       "      <td>0.167844</td>\n",
       "      <td>-0.031392</td>\n",
       "      <td>-0.041357</td>\n",
       "      <td>0.032092</td>\n",
       "      <td>0.003848</td>\n",
       "      <td>0.121125</td>\n",
       "      <td>0.035438</td>\n",
       "      <td>0.043899</td>\n",
       "      <td>0.047655</td>\n",
       "      <td>-0.030743</td>\n",
       "      <td>0.017022</td>\n",
       "      <td>0.053073</td>\n",
       "      <td>-0.013490</td>\n",
       "    </tr>\n",
       "    <tr>\n",
       "      <th>Longitude</th>\n",
       "      <td>-0.101058</td>\n",
       "      <td>0.999359</td>\n",
       "      <td>-0.430722</td>\n",
       "      <td>1.000000</td>\n",
       "      <td>-0.432531</td>\n",
       "      <td>-0.369755</td>\n",
       "      <td>0.013946</td>\n",
       "      <td>0.018442</td>\n",
       "      <td>-0.039501</td>\n",
       "      <td>-0.001894</td>\n",
       "      <td>-0.390536</td>\n",
       "      <td>-0.058800</td>\n",
       "      <td>-0.082418</td>\n",
       "      <td>-0.062824</td>\n",
       "      <td>0.045050</td>\n",
       "      <td>0.001401</td>\n",
       "      <td>-0.094278</td>\n",
       "      <td>0.038059</td>\n",
       "    </tr>\n",
       "    <tr>\n",
       "      <th>Latitude</th>\n",
       "      <td>-0.018249</td>\n",
       "      <td>-0.422123</td>\n",
       "      <td>0.962771</td>\n",
       "      <td>-0.432531</td>\n",
       "      <td>1.000000</td>\n",
       "      <td>0.156826</td>\n",
       "      <td>-0.030076</td>\n",
       "      <td>-0.039285</td>\n",
       "      <td>0.030983</td>\n",
       "      <td>0.003523</td>\n",
       "      <td>0.112444</td>\n",
       "      <td>0.033848</td>\n",
       "      <td>0.043064</td>\n",
       "      <td>0.044220</td>\n",
       "      <td>-0.028189</td>\n",
       "      <td>0.017234</td>\n",
       "      <td>0.042961</td>\n",
       "      <td>-0.010155</td>\n",
       "    </tr>\n",
       "    <tr>\n",
       "      <th>Police_Force</th>\n",
       "      <td>0.333496</td>\n",
       "      <td>-0.356474</td>\n",
       "      <td>0.167844</td>\n",
       "      <td>-0.369755</td>\n",
       "      <td>0.156826</td>\n",
       "      <td>1.000000</td>\n",
       "      <td>-0.031712</td>\n",
       "      <td>-0.015491</td>\n",
       "      <td>0.007073</td>\n",
       "      <td>0.000428</td>\n",
       "      <td>0.981975</td>\n",
       "      <td>0.044895</td>\n",
       "      <td>-0.000199</td>\n",
       "      <td>0.197990</td>\n",
       "      <td>-0.119040</td>\n",
       "      <td>-0.018276</td>\n",
       "      <td>0.240858</td>\n",
       "      <td>-0.033599</td>\n",
       "    </tr>\n",
       "    <tr>\n",
       "      <th>Accident_Severity</th>\n",
       "      <td>-0.011277</td>\n",
       "      <td>0.013465</td>\n",
       "      <td>-0.031392</td>\n",
       "      <td>0.013946</td>\n",
       "      <td>-0.030076</td>\n",
       "      <td>-0.031712</td>\n",
       "      <td>1.000000</td>\n",
       "      <td>0.075976</td>\n",
       "      <td>-0.083544</td>\n",
       "      <td>0.002961</td>\n",
       "      <td>-0.031995</td>\n",
       "      <td>0.012754</td>\n",
       "      <td>-0.004072</td>\n",
       "      <td>-0.079108</td>\n",
       "      <td>0.064321</td>\n",
       "      <td>0.026128</td>\n",
       "      <td>-0.082169</td>\n",
       "      <td>-0.005907</td>\n",
       "    </tr>\n",
       "    <tr>\n",
       "      <th>Number_of_Vehicles</th>\n",
       "      <td>0.003448</td>\n",
       "      <td>0.017152</td>\n",
       "      <td>-0.041357</td>\n",
       "      <td>0.018442</td>\n",
       "      <td>-0.039285</td>\n",
       "      <td>-0.015491</td>\n",
       "      <td>0.075976</td>\n",
       "      <td>1.000000</td>\n",
       "      <td>0.237349</td>\n",
       "      <td>-0.000116</td>\n",
       "      <td>-0.010506</td>\n",
       "      <td>-0.142306</td>\n",
       "      <td>-0.008871</td>\n",
       "      <td>0.084785</td>\n",
       "      <td>0.068607</td>\n",
       "      <td>0.024320</td>\n",
       "      <td>0.041081</td>\n",
       "      <td>-0.007846</td>\n",
       "    </tr>\n",
       "    <tr>\n",
       "      <th>Number_of_Casualties</th>\n",
       "      <td>0.005047</td>\n",
       "      <td>-0.040780</td>\n",
       "      <td>0.032092</td>\n",
       "      <td>-0.039501</td>\n",
       "      <td>0.030983</td>\n",
       "      <td>0.007073</td>\n",
       "      <td>-0.083544</td>\n",
       "      <td>0.237349</td>\n",
       "      <td>1.000000</td>\n",
       "      <td>-0.001455</td>\n",
       "      <td>0.014316</td>\n",
       "      <td>-0.082984</td>\n",
       "      <td>0.007750</td>\n",
       "      <td>0.139551</td>\n",
       "      <td>-0.029212</td>\n",
       "      <td>0.001997</td>\n",
       "      <td>0.115974</td>\n",
       "      <td>-0.015140</td>\n",
       "    </tr>\n",
       "    <tr>\n",
       "      <th>Day_of_Week</th>\n",
       "      <td>-0.001842</td>\n",
       "      <td>-0.001883</td>\n",
       "      <td>0.003848</td>\n",
       "      <td>-0.001894</td>\n",
       "      <td>0.003523</td>\n",
       "      <td>0.000428</td>\n",
       "      <td>0.002961</td>\n",
       "      <td>-0.000116</td>\n",
       "      <td>-0.001455</td>\n",
       "      <td>1.000000</td>\n",
       "      <td>0.000325</td>\n",
       "      <td>0.006843</td>\n",
       "      <td>0.002344</td>\n",
       "      <td>-0.015944</td>\n",
       "      <td>0.007822</td>\n",
       "      <td>0.000385</td>\n",
       "      <td>-0.016571</td>\n",
       "      <td>-0.003669</td>\n",
       "    </tr>\n",
       "    <tr>\n",
       "      <th>Local_Authority_(District)</th>\n",
       "      <td>0.340397</td>\n",
       "      <td>-0.380452</td>\n",
       "      <td>0.121125</td>\n",
       "      <td>-0.390536</td>\n",
       "      <td>0.112444</td>\n",
       "      <td>0.981975</td>\n",
       "      <td>-0.031995</td>\n",
       "      <td>-0.010506</td>\n",
       "      <td>0.014316</td>\n",
       "      <td>0.000325</td>\n",
       "      <td>1.000000</td>\n",
       "      <td>0.055861</td>\n",
       "      <td>0.010440</td>\n",
       "      <td>0.204926</td>\n",
       "      <td>-0.119100</td>\n",
       "      <td>-0.016618</td>\n",
       "      <td>0.253824</td>\n",
       "      <td>-0.037073</td>\n",
       "    </tr>\n",
       "    <tr>\n",
       "      <th>1st_Road_Class</th>\n",
       "      <td>0.017955</td>\n",
       "      <td>-0.060289</td>\n",
       "      <td>0.035438</td>\n",
       "      <td>-0.058800</td>\n",
       "      <td>0.033848</td>\n",
       "      <td>0.044895</td>\n",
       "      <td>0.012754</td>\n",
       "      <td>-0.142306</td>\n",
       "      <td>-0.082984</td>\n",
       "      <td>0.006843</td>\n",
       "      <td>0.055861</td>\n",
       "      <td>1.000000</td>\n",
       "      <td>-0.089215</td>\n",
       "      <td>-0.389887</td>\n",
       "      <td>0.103458</td>\n",
       "      <td>-0.033920</td>\n",
       "      <td>-0.226737</td>\n",
       "      <td>-0.010929</td>\n",
       "    </tr>\n",
       "    <tr>\n",
       "      <th>1st_Road_Number</th>\n",
       "      <td>0.006321</td>\n",
       "      <td>-0.084678</td>\n",
       "      <td>0.043899</td>\n",
       "      <td>-0.082418</td>\n",
       "      <td>0.043064</td>\n",
       "      <td>-0.000199</td>\n",
       "      <td>-0.004072</td>\n",
       "      <td>-0.008871</td>\n",
       "      <td>0.007750</td>\n",
       "      <td>0.002344</td>\n",
       "      <td>0.010440</td>\n",
       "      <td>-0.089215</td>\n",
       "      <td>1.000000</td>\n",
       "      <td>-0.064908</td>\n",
       "      <td>0.035860</td>\n",
       "      <td>0.183900</td>\n",
       "      <td>-0.015504</td>\n",
       "      <td>0.002553</td>\n",
       "    </tr>\n",
       "    <tr>\n",
       "      <th>Speed_limit</th>\n",
       "      <td>0.081329</td>\n",
       "      <td>-0.063709</td>\n",
       "      <td>0.047655</td>\n",
       "      <td>-0.062824</td>\n",
       "      <td>0.044220</td>\n",
       "      <td>0.197990</td>\n",
       "      <td>-0.079108</td>\n",
       "      <td>0.084785</td>\n",
       "      <td>0.139551</td>\n",
       "      <td>-0.015944</td>\n",
       "      <td>0.204926</td>\n",
       "      <td>-0.389887</td>\n",
       "      <td>-0.064908</td>\n",
       "      <td>1.000000</td>\n",
       "      <td>-0.334398</td>\n",
       "      <td>-0.052516</td>\n",
       "      <td>0.684706</td>\n",
       "      <td>-0.045009</td>\n",
       "    </tr>\n",
       "    <tr>\n",
       "      <th>2nd_Road_Class</th>\n",
       "      <td>-0.042901</td>\n",
       "      <td>0.044525</td>\n",
       "      <td>-0.030743</td>\n",
       "      <td>0.045050</td>\n",
       "      <td>-0.028189</td>\n",
       "      <td>-0.119040</td>\n",
       "      <td>0.064321</td>\n",
       "      <td>0.068607</td>\n",
       "      <td>-0.029212</td>\n",
       "      <td>0.007822</td>\n",
       "      <td>-0.119100</td>\n",
       "      <td>0.103458</td>\n",
       "      <td>0.035860</td>\n",
       "      <td>-0.334398</td>\n",
       "      <td>1.000000</td>\n",
       "      <td>0.157109</td>\n",
       "      <td>-0.294213</td>\n",
       "      <td>0.024734</td>\n",
       "    </tr>\n",
       "    <tr>\n",
       "      <th>2nd_Road_Number</th>\n",
       "      <td>-0.003913</td>\n",
       "      <td>-0.000128</td>\n",
       "      <td>0.017022</td>\n",
       "      <td>0.001401</td>\n",
       "      <td>0.017234</td>\n",
       "      <td>-0.018276</td>\n",
       "      <td>0.026128</td>\n",
       "      <td>0.024320</td>\n",
       "      <td>0.001997</td>\n",
       "      <td>0.000385</td>\n",
       "      <td>-0.016618</td>\n",
       "      <td>-0.033920</td>\n",
       "      <td>0.183900</td>\n",
       "      <td>-0.052516</td>\n",
       "      <td>0.157109</td>\n",
       "      <td>1.000000</td>\n",
       "      <td>-0.042739</td>\n",
       "      <td>0.000002</td>\n",
       "    </tr>\n",
       "    <tr>\n",
       "      <th>Urban_or_Rural_Area</th>\n",
       "      <td>0.099965</td>\n",
       "      <td>-0.095941</td>\n",
       "      <td>0.053073</td>\n",
       "      <td>-0.094278</td>\n",
       "      <td>0.042961</td>\n",
       "      <td>0.240858</td>\n",
       "      <td>-0.082169</td>\n",
       "      <td>0.041081</td>\n",
       "      <td>0.115974</td>\n",
       "      <td>-0.016571</td>\n",
       "      <td>0.253824</td>\n",
       "      <td>-0.226737</td>\n",
       "      <td>-0.015504</td>\n",
       "      <td>0.684706</td>\n",
       "      <td>-0.294213</td>\n",
       "      <td>-0.042739</td>\n",
       "      <td>1.000000</td>\n",
       "      <td>-0.023722</td>\n",
       "    </tr>\n",
       "    <tr>\n",
       "      <th>Year</th>\n",
       "      <td>0.102025</td>\n",
       "      <td>0.038404</td>\n",
       "      <td>-0.013490</td>\n",
       "      <td>0.038059</td>\n",
       "      <td>-0.010155</td>\n",
       "      <td>-0.033599</td>\n",
       "      <td>-0.005907</td>\n",
       "      <td>-0.007846</td>\n",
       "      <td>-0.015140</td>\n",
       "      <td>-0.003669</td>\n",
       "      <td>-0.037073</td>\n",
       "      <td>-0.010929</td>\n",
       "      <td>0.002553</td>\n",
       "      <td>-0.045009</td>\n",
       "      <td>0.024734</td>\n",
       "      <td>0.000002</td>\n",
       "      <td>-0.023722</td>\n",
       "      <td>1.000000</td>\n",
       "    </tr>\n",
       "  </tbody>\n",
       "</table>\n",
       "</div>"
      ],
      "text/plain": [
       "                            Unnamed: 0  Location_Easting_OSGR  \\\n",
       "Unnamed: 0                    1.000000              -0.099098   \n",
       "Location_Easting_OSGR        -0.099098               1.000000   \n",
       "Location_Northing_OSGR       -0.018978              -0.420212   \n",
       "Longitude                    -0.101058               0.999359   \n",
       "Latitude                     -0.018249              -0.422123   \n",
       "Police_Force                  0.333496              -0.356474   \n",
       "Accident_Severity            -0.011277               0.013465   \n",
       "Number_of_Vehicles            0.003448               0.017152   \n",
       "Number_of_Casualties          0.005047              -0.040780   \n",
       "Day_of_Week                  -0.001842              -0.001883   \n",
       "Local_Authority_(District)    0.340397              -0.380452   \n",
       "1st_Road_Class                0.017955              -0.060289   \n",
       "1st_Road_Number               0.006321              -0.084678   \n",
       "Speed_limit                   0.081329              -0.063709   \n",
       "2nd_Road_Class               -0.042901               0.044525   \n",
       "2nd_Road_Number              -0.003913              -0.000128   \n",
       "Urban_or_Rural_Area           0.099965              -0.095941   \n",
       "Year                          0.102025               0.038404   \n",
       "\n",
       "                            Location_Northing_OSGR  Longitude  Latitude  \\\n",
       "Unnamed: 0                               -0.018978  -0.101058 -0.018249   \n",
       "Location_Easting_OSGR                    -0.420212   0.999359 -0.422123   \n",
       "Location_Northing_OSGR                    1.000000  -0.430722  0.962771   \n",
       "Longitude                                -0.430722   1.000000 -0.432531   \n",
       "Latitude                                  0.962771  -0.432531  1.000000   \n",
       "Police_Force                              0.167844  -0.369755  0.156826   \n",
       "Accident_Severity                        -0.031392   0.013946 -0.030076   \n",
       "Number_of_Vehicles                       -0.041357   0.018442 -0.039285   \n",
       "Number_of_Casualties                      0.032092  -0.039501  0.030983   \n",
       "Day_of_Week                               0.003848  -0.001894  0.003523   \n",
       "Local_Authority_(District)                0.121125  -0.390536  0.112444   \n",
       "1st_Road_Class                            0.035438  -0.058800  0.033848   \n",
       "1st_Road_Number                           0.043899  -0.082418  0.043064   \n",
       "Speed_limit                               0.047655  -0.062824  0.044220   \n",
       "2nd_Road_Class                           -0.030743   0.045050 -0.028189   \n",
       "2nd_Road_Number                           0.017022   0.001401  0.017234   \n",
       "Urban_or_Rural_Area                       0.053073  -0.094278  0.042961   \n",
       "Year                                     -0.013490   0.038059 -0.010155   \n",
       "\n",
       "                            Police_Force  Accident_Severity  \\\n",
       "Unnamed: 0                      0.333496          -0.011277   \n",
       "Location_Easting_OSGR          -0.356474           0.013465   \n",
       "Location_Northing_OSGR          0.167844          -0.031392   \n",
       "Longitude                      -0.369755           0.013946   \n",
       "Latitude                        0.156826          -0.030076   \n",
       "Police_Force                    1.000000          -0.031712   \n",
       "Accident_Severity              -0.031712           1.000000   \n",
       "Number_of_Vehicles             -0.015491           0.075976   \n",
       "Number_of_Casualties            0.007073          -0.083544   \n",
       "Day_of_Week                     0.000428           0.002961   \n",
       "Local_Authority_(District)      0.981975          -0.031995   \n",
       "1st_Road_Class                  0.044895           0.012754   \n",
       "1st_Road_Number                -0.000199          -0.004072   \n",
       "Speed_limit                     0.197990          -0.079108   \n",
       "2nd_Road_Class                 -0.119040           0.064321   \n",
       "2nd_Road_Number                -0.018276           0.026128   \n",
       "Urban_or_Rural_Area             0.240858          -0.082169   \n",
       "Year                           -0.033599          -0.005907   \n",
       "\n",
       "                            Number_of_Vehicles  Number_of_Casualties  \\\n",
       "Unnamed: 0                            0.003448              0.005047   \n",
       "Location_Easting_OSGR                 0.017152             -0.040780   \n",
       "Location_Northing_OSGR               -0.041357              0.032092   \n",
       "Longitude                             0.018442             -0.039501   \n",
       "Latitude                             -0.039285              0.030983   \n",
       "Police_Force                         -0.015491              0.007073   \n",
       "Accident_Severity                     0.075976             -0.083544   \n",
       "Number_of_Vehicles                    1.000000              0.237349   \n",
       "Number_of_Casualties                  0.237349              1.000000   \n",
       "Day_of_Week                          -0.000116             -0.001455   \n",
       "Local_Authority_(District)           -0.010506              0.014316   \n",
       "1st_Road_Class                       -0.142306             -0.082984   \n",
       "1st_Road_Number                      -0.008871              0.007750   \n",
       "Speed_limit                           0.084785              0.139551   \n",
       "2nd_Road_Class                        0.068607             -0.029212   \n",
       "2nd_Road_Number                       0.024320              0.001997   \n",
       "Urban_or_Rural_Area                   0.041081              0.115974   \n",
       "Year                                 -0.007846             -0.015140   \n",
       "\n",
       "                            Day_of_Week  Local_Authority_(District)  \\\n",
       "Unnamed: 0                    -0.001842                    0.340397   \n",
       "Location_Easting_OSGR         -0.001883                   -0.380452   \n",
       "Location_Northing_OSGR         0.003848                    0.121125   \n",
       "Longitude                     -0.001894                   -0.390536   \n",
       "Latitude                       0.003523                    0.112444   \n",
       "Police_Force                   0.000428                    0.981975   \n",
       "Accident_Severity              0.002961                   -0.031995   \n",
       "Number_of_Vehicles            -0.000116                   -0.010506   \n",
       "Number_of_Casualties          -0.001455                    0.014316   \n",
       "Day_of_Week                    1.000000                    0.000325   \n",
       "Local_Authority_(District)     0.000325                    1.000000   \n",
       "1st_Road_Class                 0.006843                    0.055861   \n",
       "1st_Road_Number                0.002344                    0.010440   \n",
       "Speed_limit                   -0.015944                    0.204926   \n",
       "2nd_Road_Class                 0.007822                   -0.119100   \n",
       "2nd_Road_Number                0.000385                   -0.016618   \n",
       "Urban_or_Rural_Area           -0.016571                    0.253824   \n",
       "Year                          -0.003669                   -0.037073   \n",
       "\n",
       "                            1st_Road_Class  1st_Road_Number  Speed_limit  \\\n",
       "Unnamed: 0                        0.017955         0.006321     0.081329   \n",
       "Location_Easting_OSGR            -0.060289        -0.084678    -0.063709   \n",
       "Location_Northing_OSGR            0.035438         0.043899     0.047655   \n",
       "Longitude                        -0.058800        -0.082418    -0.062824   \n",
       "Latitude                          0.033848         0.043064     0.044220   \n",
       "Police_Force                      0.044895        -0.000199     0.197990   \n",
       "Accident_Severity                 0.012754        -0.004072    -0.079108   \n",
       "Number_of_Vehicles               -0.142306        -0.008871     0.084785   \n",
       "Number_of_Casualties             -0.082984         0.007750     0.139551   \n",
       "Day_of_Week                       0.006843         0.002344    -0.015944   \n",
       "Local_Authority_(District)        0.055861         0.010440     0.204926   \n",
       "1st_Road_Class                    1.000000        -0.089215    -0.389887   \n",
       "1st_Road_Number                  -0.089215         1.000000    -0.064908   \n",
       "Speed_limit                      -0.389887        -0.064908     1.000000   \n",
       "2nd_Road_Class                    0.103458         0.035860    -0.334398   \n",
       "2nd_Road_Number                  -0.033920         0.183900    -0.052516   \n",
       "Urban_or_Rural_Area              -0.226737        -0.015504     0.684706   \n",
       "Year                             -0.010929         0.002553    -0.045009   \n",
       "\n",
       "                            2nd_Road_Class  2nd_Road_Number  \\\n",
       "Unnamed: 0                       -0.042901        -0.003913   \n",
       "Location_Easting_OSGR             0.044525        -0.000128   \n",
       "Location_Northing_OSGR           -0.030743         0.017022   \n",
       "Longitude                         0.045050         0.001401   \n",
       "Latitude                         -0.028189         0.017234   \n",
       "Police_Force                     -0.119040        -0.018276   \n",
       "Accident_Severity                 0.064321         0.026128   \n",
       "Number_of_Vehicles                0.068607         0.024320   \n",
       "Number_of_Casualties             -0.029212         0.001997   \n",
       "Day_of_Week                       0.007822         0.000385   \n",
       "Local_Authority_(District)       -0.119100        -0.016618   \n",
       "1st_Road_Class                    0.103458        -0.033920   \n",
       "1st_Road_Number                   0.035860         0.183900   \n",
       "Speed_limit                      -0.334398        -0.052516   \n",
       "2nd_Road_Class                    1.000000         0.157109   \n",
       "2nd_Road_Number                   0.157109         1.000000   \n",
       "Urban_or_Rural_Area              -0.294213        -0.042739   \n",
       "Year                              0.024734         0.000002   \n",
       "\n",
       "                            Urban_or_Rural_Area      Year  \n",
       "Unnamed: 0                             0.099965  0.102025  \n",
       "Location_Easting_OSGR                 -0.095941  0.038404  \n",
       "Location_Northing_OSGR                 0.053073 -0.013490  \n",
       "Longitude                             -0.094278  0.038059  \n",
       "Latitude                               0.042961 -0.010155  \n",
       "Police_Force                           0.240858 -0.033599  \n",
       "Accident_Severity                     -0.082169 -0.005907  \n",
       "Number_of_Vehicles                     0.041081 -0.007846  \n",
       "Number_of_Casualties                   0.115974 -0.015140  \n",
       "Day_of_Week                           -0.016571 -0.003669  \n",
       "Local_Authority_(District)             0.253824 -0.037073  \n",
       "1st_Road_Class                        -0.226737 -0.010929  \n",
       "1st_Road_Number                       -0.015504  0.002553  \n",
       "Speed_limit                            0.684706 -0.045009  \n",
       "2nd_Road_Class                        -0.294213  0.024734  \n",
       "2nd_Road_Number                       -0.042739  0.000002  \n",
       "Urban_or_Rural_Area                    1.000000 -0.023722  \n",
       "Year                                  -0.023722  1.000000  "
      ]
     },
     "execution_count": 37,
     "metadata": {},
     "output_type": "execute_result"
    }
   ],
   "source": [
    "new_matrix"
   ]
  },
  {
   "cell_type": "code",
   "execution_count": 38,
   "id": "3f43904a",
   "metadata": {
    "execution": {
     "iopub.execute_input": "2023-04-03T16:30:56.903853Z",
     "iopub.status.busy": "2023-04-03T16:30:56.903388Z",
     "iopub.status.idle": "2023-04-03T16:30:58.425436Z",
     "shell.execute_reply": "2023-04-03T16:30:58.424372Z"
    },
    "papermill": {
     "duration": 1.543028,
     "end_time": "2023-04-03T16:30:58.429426",
     "exception": false,
     "start_time": "2023-04-03T16:30:56.886398",
     "status": "completed"
    },
    "tags": []
   },
   "outputs": [
    {
     "data": {
      "text/plain": [
       "<AxesSubplot:>"
      ]
     },
     "execution_count": 38,
     "metadata": {},
     "output_type": "execute_result"
    },
    {
     "data": {
      "image/png": "[encoded data removed]",
      "text/plain": [
       "<Figure size 1500x1000 with 2 Axes>"
      ]
     },
     "metadata": {},
     "output_type": "display_data"
    }
   ],
   "source": [
    "plt.figure(figsize=(15,10))\n",
    "sns.heatmap(new_matrix,annot=True, vmin=-1,cmap='plasma_r')"
   ]
  },
  {
   "cell_type": "code",
   "execution_count": 39,
   "id": "2283e433",
   "metadata": {
    "execution": {
     "iopub.execute_input": "2023-04-03T16:30:58.469350Z",
     "iopub.status.busy": "2023-04-03T16:30:58.469013Z",
     "iopub.status.idle": "2023-04-03T16:30:58.674347Z",
     "shell.execute_reply": "2023-04-03T16:30:58.673316Z"
    },
    "papermill": {
     "duration": 0.228457,
     "end_time": "2023-04-03T16:30:58.676695",
     "exception": false,
     "start_time": "2023-04-03T16:30:58.448238",
     "status": "completed"
    },
    "tags": []
   },
   "outputs": [
    {
     "data": {
      "text/plain": [
       "<AxesSubplot:>"
      ]
     },
     "execution_count": 39,
     "metadata": {},
     "output_type": "execute_result"
    },
    {
     "data": {
      "image/png": "[encoded data removed]",
      "text/plain": [
       "<Figure size 1800x600 with 1 Axes>"
      ]
     },
     "metadata": {},
     "output_type": "display_data"
    }
   ],
   "source": [
    "plt.figure(figsize=(18,6))\n",
    "new_matrix['Accident_Severity'].sort_values(ascending=False).plot(color='#ff000d')"
   ]
  },
  {
   "cell_type": "code",
   "execution_count": 40,
   "id": "67cc8a1d",
   "metadata": {
    "execution": {
     "iopub.execute_input": "2023-04-03T16:30:58.715388Z",
     "iopub.status.busy": "2023-04-03T16:30:58.715062Z",
     "iopub.status.idle": "2023-04-03T16:30:58.778274Z",
     "shell.execute_reply": "2023-04-03T16:30:58.777288Z"
    },
    "papermill": {
     "duration": 0.084751,
     "end_time": "2023-04-03T16:30:58.780359",
     "exception": false,
     "start_time": "2023-04-03T16:30:58.695608",
     "status": "completed"
    },
    "tags": []
   },
   "outputs": [
    {
     "name": "stdout",
     "output_type": "stream",
     "text": [
      "<class 'pandas.core.frame.DataFrame'>\n",
      "RangeIndex: 1504150 entries, 0 to 1504149\n",
      "Data columns (total 18 columns):\n",
      " #   Column                      Non-Null Count    Dtype  \n",
      "---  ------                      --------------    -----  \n",
      " 0   Unnamed: 0                  1504150 non-null  int64  \n",
      " 1   Location_Easting_OSGR       1504049 non-null  float64\n",
      " 2   Location_Northing_OSGR      1504150 non-null  float64\n",
      " 3   Longitude                   1504049 non-null  float64\n",
      " 4   Latitude                    1504150 non-null  float64\n",
      " 5   Police_Force                1504150 non-null  int64  \n",
      " 6   Accident_Severity           1504150 non-null  int64  \n",
      " 7   Number_of_Vehicles          1504150 non-null  int64  \n",
      " 8   Number_of_Casualties        1504150 non-null  int64  \n",
      " 9   Day_of_Week                 1504150 non-null  int64  \n",
      " 10  Local_Authority_(District)  1504150 non-null  int64  \n",
      " 11  1st_Road_Class              1504150 non-null  int64  \n",
      " 12  1st_Road_Number             1504150 non-null  int64  \n",
      " 13  Speed_limit                 1504150 non-null  int64  \n",
      " 14  2nd_Road_Class              1504150 non-null  int64  \n",
      " 15  2nd_Road_Number             1504150 non-null  int64  \n",
      " 16  Urban_or_Rural_Area         1504150 non-null  int64  \n",
      " 17  Year                        1504150 non-null  int64  \n",
      "dtypes: float64(4), int64(14)\n",
      "memory usage: 206.6 MB\n"
     ]
    }
   ],
   "source": [
    "final_accident_severity_df=accident_severity_df.copy()\n",
    "final_accident_severity_df.info()"
   ]
  },
  {
   "cell_type": "code",
   "execution_count": 41,
   "id": "e48552b4",
   "metadata": {
    "execution": {
     "iopub.execute_input": "2023-04-03T16:30:58.818799Z",
     "iopub.status.busy": "2023-04-03T16:30:58.818459Z",
     "iopub.status.idle": "2023-04-03T16:30:59.023346Z",
     "shell.execute_reply": "2023-04-03T16:30:59.022010Z"
    },
    "papermill": {
     "duration": 0.226736,
     "end_time": "2023-04-03T16:30:59.025522",
     "exception": false,
     "start_time": "2023-04-03T16:30:58.798786",
     "status": "completed"
    },
    "tags": []
   },
   "outputs": [],
   "source": [
    "for feature in accident_severity_df.dtypes[accident_severity_df.dtypes!='object'].index:\n",
    "    if(new_matrix['Accident_Severity'][feature]<0.02 and new_matrix['Accident_Severity'][feature]>-0.02):\n",
    "        final_accident_severity_df.drop(columns=feature,inplace=True)"
   ]
  },
  {
   "cell_type": "code",
   "execution_count": 42,
   "id": "4fce2a79",
   "metadata": {
    "execution": {
     "iopub.execute_input": "2023-04-03T16:30:59.064387Z",
     "iopub.status.busy": "2023-04-03T16:30:59.064060Z",
     "iopub.status.idle": "2023-04-03T16:30:59.077199Z",
     "shell.execute_reply": "2023-04-03T16:30:59.075957Z"
    },
    "papermill": {
     "duration": 0.034937,
     "end_time": "2023-04-03T16:30:59.079187",
     "exception": false,
     "start_time": "2023-04-03T16:30:59.044250",
     "status": "completed"
    },
    "tags": []
   },
   "outputs": [
    {
     "data": {
      "text/html": [
       "<div>\n",
       "<style scoped>\n",
       "    .dataframe tbody tr th:only-of-type {\n",
       "        vertical-align: middle;\n",
       "    }\n",
       "\n",
       "    .dataframe tbody tr th {\n",
       "        vertical-align: top;\n",
       "    }\n",
       "\n",
       "    .dataframe thead th {\n",
       "        text-align: right;\n",
       "    }\n",
       "</style>\n",
       "<table border=\"1\" class=\"dataframe\">\n",
       "  <thead>\n",
       "    <tr style=\"text-align: right;\">\n",
       "      <th></th>\n",
       "      <th>Location_Northing_OSGR</th>\n",
       "      <th>Latitude</th>\n",
       "      <th>Police_Force</th>\n",
       "      <th>Accident_Severity</th>\n",
       "      <th>Number_of_Vehicles</th>\n",
       "      <th>Number_of_Casualties</th>\n",
       "      <th>Local_Authority_(District)</th>\n",
       "      <th>Speed_limit</th>\n",
       "      <th>2nd_Road_Class</th>\n",
       "      <th>2nd_Road_Number</th>\n",
       "      <th>Urban_or_Rural_Area</th>\n",
       "    </tr>\n",
       "  </thead>\n",
       "  <tbody>\n",
       "    <tr>\n",
       "      <th>0</th>\n",
       "      <td>178240.0</td>\n",
       "      <td>51.489096</td>\n",
       "      <td>1</td>\n",
       "      <td>2</td>\n",
       "      <td>1</td>\n",
       "      <td>1</td>\n",
       "      <td>12</td>\n",
       "      <td>30</td>\n",
       "      <td>-1</td>\n",
       "      <td>0</td>\n",
       "      <td>1</td>\n",
       "    </tr>\n",
       "    <tr>\n",
       "      <th>1</th>\n",
       "      <td>181650.0</td>\n",
       "      <td>51.520075</td>\n",
       "      <td>1</td>\n",
       "      <td>3</td>\n",
       "      <td>1</td>\n",
       "      <td>1</td>\n",
       "      <td>12</td>\n",
       "      <td>30</td>\n",
       "      <td>5</td>\n",
       "      <td>0</td>\n",
       "      <td>1</td>\n",
       "    </tr>\n",
       "    <tr>\n",
       "      <th>2</th>\n",
       "      <td>182240.0</td>\n",
       "      <td>51.525301</td>\n",
       "      <td>1</td>\n",
       "      <td>3</td>\n",
       "      <td>2</td>\n",
       "      <td>1</td>\n",
       "      <td>12</td>\n",
       "      <td>30</td>\n",
       "      <td>-1</td>\n",
       "      <td>0</td>\n",
       "      <td>1</td>\n",
       "    </tr>\n",
       "    <tr>\n",
       "      <th>3</th>\n",
       "      <td>177530.0</td>\n",
       "      <td>51.482442</td>\n",
       "      <td>1</td>\n",
       "      <td>3</td>\n",
       "      <td>1</td>\n",
       "      <td>1</td>\n",
       "      <td>12</td>\n",
       "      <td>30</td>\n",
       "      <td>-1</td>\n",
       "      <td>0</td>\n",
       "      <td>1</td>\n",
       "    </tr>\n",
       "    <tr>\n",
       "      <th>4</th>\n",
       "      <td>179040.0</td>\n",
       "      <td>51.495752</td>\n",
       "      <td>1</td>\n",
       "      <td>3</td>\n",
       "      <td>1</td>\n",
       "      <td>1</td>\n",
       "      <td>12</td>\n",
       "      <td>30</td>\n",
       "      <td>-1</td>\n",
       "      <td>0</td>\n",
       "      <td>1</td>\n",
       "    </tr>\n",
       "  </tbody>\n",
       "</table>\n",
       "</div>"
      ],
      "text/plain": [
       "   Location_Northing_OSGR   Latitude  Police_Force  Accident_Severity  \\\n",
       "0                178240.0  51.489096             1                  2   \n",
       "1                181650.0  51.520075             1                  3   \n",
       "2                182240.0  51.525301             1                  3   \n",
       "3                177530.0  51.482442             1                  3   \n",
       "4                179040.0  51.495752             1                  3   \n",
       "\n",
       "   Number_of_Vehicles  Number_of_Casualties  Local_Authority_(District)  \\\n",
       "0                   1                     1                          12   \n",
       "1                   1                     1                          12   \n",
       "2                   2                     1                          12   \n",
       "3                   1                     1                          12   \n",
       "4                   1                     1                          12   \n",
       "\n",
       "   Speed_limit  2nd_Road_Class  2nd_Road_Number  Urban_or_Rural_Area  \n",
       "0           30              -1                0                    1  \n",
       "1           30               5                0                    1  \n",
       "2           30              -1                0                    1  \n",
       "3           30              -1                0                    1  \n",
       "4           30              -1                0                    1  "
      ]
     },
     "execution_count": 42,
     "metadata": {},
     "output_type": "execute_result"
    }
   ],
   "source": [
    "final_accident_severity_df.head(5)"
   ]
  },
  {
   "cell_type": "code",
   "execution_count": null,
   "id": "b7e4a41f",
   "metadata": {
    "papermill": {
     "duration": 0.019074,
     "end_time": "2023-04-03T16:30:59.117103",
     "exception": false,
     "start_time": "2023-04-03T16:30:59.098029",
     "status": "completed"
    },
    "tags": []
   },
   "outputs": [],
   "source": []
  }
 ],
 "metadata": {
  "kernelspec": {
   "display_name": "Python 3",
   "language": "python",
   "name": "python3"
  },
  "language_info": {
   "codemirror_mode": {
    "name": "ipython",
    "version": 3
   },
   "file_extension": ".py",
   "mimetype": "text/x-python",
   "name": "python",
   "nbconvert_exporter": "python",
   "pygments_lexer": "ipython3",
   "version": "3.7.12"
  },
  "papermill": {
   "default_parameters": {},
   "duration": 54.441505,
   "end_time": "2023-04-03T16:31:00.057085",
   "environment_variables": {},
   "exception": null,
   "input_path": "__notebook__.ipynb",
   "output_path": "__notebook__.ipynb",
   "parameters": {},
   "start_time": "2023-04-03T16:30:05.615580",
   "version": "2.4.0"
  }
 },
 "nbformat": 4,
 "nbformat_minor": 5
}
